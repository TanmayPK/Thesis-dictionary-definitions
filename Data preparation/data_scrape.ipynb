{
 "cells": [
  {
   "cell_type": "code",
   "execution_count": 2,
   "metadata": {},
   "outputs": [
    {
     "name": "stdout",
     "output_type": "stream",
     "text": [
      "86582\n"
     ]
    }
   ],
   "source": [
    "import json\n",
    "import requests\n",
    "from bs4 import BeautifulSoup\n",
    "import pandas as pd\n",
    "from tqdm import tqdm\n",
    "import time\n",
    "from bs4 import BeautifulSoup\n",
    "\n",
    "with open('Data/general_list.json', 'r') as file:\n",
    "    data = json.load(file)\n",
    "general_names = [sublist[0] for sublist in data]\n",
    "print(len(general_names))\n"
   ]
  },
  {
   "cell_type": "code",
   "execution_count": 5,
   "metadata": {},
   "outputs": [
    {
     "name": "stderr",
     "output_type": "stream",
     "text": [
      "Processing:  63%|██████▎   | 54191/86582 [3:27:22<1:57:54,  4.58it/s] "
     ]
    },
    {
     "name": "stdout",
     "output_type": "stream",
     "text": [
      "Attempt 1 failed: HTTPSConnectionPool(host='anw.ivdnt.org', port=443): Max retries exceeded with url: /article/pati%C3%ABntiewerk?output=xml (Caused by NameResolutionError(\"<urllib3.connection.HTTPSConnection object at 0x7fbf246ee1b0>: Failed to resolve 'anw.ivdnt.org' ([Errno -3] Temporary failure in name resolution)\"))\n"
     ]
    },
    {
     "name": "stderr",
     "output_type": "stream",
     "text": [
      "Processing:  87%|████████▋ | 75289/86582 [4:49:56<15:05:55,  4.81s/it]"
     ]
    },
    {
     "name": "stdout",
     "output_type": "stream",
     "text": [
      "Attempt 2 failed: HTTPSConnectionPool(host='anw.ivdnt.org', port=443): Max retries exceeded with url: /article/verleidelijk?output=xml (Caused by NewConnectionError('<urllib3.connection.HTTPSConnection object at 0x7fbf1eeefa70>: Failed to establish a new connection: [Errno 111] Connection refused'))\n"
     ]
    },
    {
     "name": "stderr",
     "output_type": "stream",
     "text": [
      "Processing: 100%|██████████| 86582/86582 [5:33:42<00:00,  4.32it/s]   \n"
     ]
    }
   ],
   "source": [
    "base_url = 'https://anw.ivdnt.org/article/'\n",
    "words = []\n",
    "xml_files = []\n",
    "max_retries = 3\n",
    "retry_delay = 5 \n",
    "progress_bar = tqdm(general_names, desc='Processing')\n",
    "for word in progress_bar:\n",
    "    retries = 0\n",
    "    while retries < max_retries:\n",
    "        url = base_url + word + '?output=xml'\n",
    "        try:\n",
    "            response = requests.get(url)\n",
    "            if response.status_code == 200:\n",
    "                xml_content = response.content\n",
    "                words.append(word)\n",
    "                xml_files.append(xml_content)\n",
    "                break \n",
    "        except requests.exceptions.RequestException as e:\n",
    "            print(f\"Attempt {retries+1} failed:\", e)\n",
    "        \n",
    "        retries += 1\n",
    "        time.sleep(retry_delay)\n",
    "df = pd.DataFrame({'word': words, 'xml_file': xml_files})"
   ]
  },
  {
   "cell_type": "code",
   "execution_count": 6,
   "metadata": {},
   "outputs": [],
   "source": [
    "df.to_csv('Data/dut_general_xml.csv', index = False)"
   ]
  },
  {
   "cell_type": "code",
   "execution_count": 4,
   "metadata": {},
   "outputs": [
    {
     "name": "stdout",
     "output_type": "stream",
     "text": [
      "b'<artikel last-modified=\"2023-11-28\" kopje=\"true\" ID=\"997\" pid=\"2692\"> <Lemma> <Lemmavorm>achterbalkon</Lemmavorm> <Lemmatype>woord</Lemmatype> </Lemma>       <BetekenisEnGebruik> <Kernbetekenis pid=\"2693\" id=\"bet1.0\"> <betekenisInfo> <Betekenisnummer>1.0</Betekenisnummer> <Lemma> <Lemmavorm>achterbalkon</Lemmavorm> <Lemmatype>woord</Lemmatype> </Lemma> <SpellingDbId>2066</SpellingDbId> <Woordsoort> <Type>substantief</Type> <Substantief> <Naamtype>soortnaam</Naamtype> <GeslachtBody id=\"el2\"> <Geslacht>onzijdig</Geslacht> </GeslachtBody> <Lidwoord id=\"el3\"> <AardLidwoord>het</AardLidwoord> </Lidwoord> <Betekenisklasse>zaaknaam</Betekenisklasse> </Substantief> </Woordsoort> <SpellingEnFlexie> <SubstantiefVormen> <Enkelvoud LexiconId=\"157780\"> <Woordvorm>achterbalkon</Woordvorm> <Afbreking>ach.ter.bal.kon</Afbreking> </Enkelvoud> <Meervoud LexiconId=\"207639\"> <Woordvorm>achterbalkons</Woordvorm> <Afbreking>ach.ter.bal.kons</Afbreking> </Meervoud> <Verkleiningsvorm LexiconId=\"804160\"> <Woordvorm>achterbalkonnetje</Woordvorm> <Afbreking>ach.ter.bal.kon.ne.tje</Afbreking> </Verkleiningsvorm> </SubstantiefVormen> </SpellingEnFlexie> <Uitspraak> <AantalLettergrepenBody id=\"el4\"> <AantalLettergrepen>4</AantalLettergrepen> </AantalLettergrepenBody> <HoofdklemtoonBody id=\"el5\"> <Plaats_hoofdklemtoon>1ste lettergreep</Plaats_hoofdklemtoon> </HoofdklemtoonBody> <FonetischeSchrijfwijze>*\\xc9\\x91 x . t \\xc9\\x99 r . b \\xc9\\x91 l . \\'k \\xc9\\x94 n</FonetischeSchrijfwijze> </Uitspraak> <Woordvorming> <WoordvormingType>samenstelling</WoordvormingType> <Samenstelling> <Linkerlid>achter</Linkerlid> <Linkerlidtype>bijwoord</Linkerlidtype> <Rechterlid>balkon</Rechterlid> <Rechterlidtype>substantief</Rechterlidtype> <Verbindingsklank>geen</Verbindingsklank> </Samenstelling> </Woordvorming> <BijzonderhedenGebruik></BijzonderhedenGebruik> </betekenisInfo> </Kernbetekenis> </BetekenisEnGebruik> <LemmaSamenvatting><Lang>achterbalkon</Lang><Kort>achterbalkon</Kort></LemmaSamenvatting></artikel>\\n'\n"
     ]
    }
   ],
   "source": [
    "url = 'https://anw.ivdnt.org/article/achterbalkon?output=xml'\n",
    "response = requests.get(url)\n",
    "if response.status_code == 200:\n",
    "    xml_content = response.content\n",
    "    print(xml_content)\n",
    "    "
   ]
  },
  {
   "cell_type": "code",
   "execution_count": 39,
   "metadata": {},
   "outputs": [
    {
     "data": {
      "text/plain": [
       "b'<artikel last-modified=\"2023-10-04\" ID=\"151279\" pid=\"493255\"> <Lemma> <Lemmavorm>aanbiddingszanger</Lemmavorm> <Lemmatype>woord</Lemmatype> </Lemma>       <BetekenisEnGebruik> <Kernbetekenis neo=\"true\" pid=\"493257\" id=\"bet1.0\"> <betekenisInfo> <Betekenisnummer>1.0</Betekenisnummer> <Lemma> <Lemmavorm>aanbiddingszanger</Lemmavorm> <Lemmatype>woord</Lemmatype> </Lemma> <SpellingDbId>170196</SpellingDbId> <Woordsoort> <Type>substantief</Type> <Substantief> <Naamtype>soortnaam</Naamtype> <GeslachtBody id=\"el6\"> <Geslacht>mannelijk</Geslacht> </GeslachtBody> <Lidwoord id=\"el7\"> <AardLidwoord>de</AardLidwoord> </Lidwoord> <Betekenisklasse>persoonsnaam</Betekenisklasse> </Substantief> </Woordsoort> <SpellingEnFlexie> <SubstantiefVormen> <Enkelvoud LexiconId=\"502408\"> <Woordvorm>aanbiddingszanger</Woordvorm> <Afbreking>aan.bid.dings.zan.ger</Afbreking> </Enkelvoud> <Meervoud LexiconId=\"486263\"> <Woordvorm>aanbiddingszangers</Woordvorm> <Afbreking>aan.bid.dings.zan.gers</Afbreking> </Meervoud> </SubstantiefVormen> </SpellingEnFlexie> <Uitspraak> <AantalLettergrepenBody id=\"el8\"> <AantalLettergrepen>5</AantalLettergrepen> </AantalLettergrepenBody> <HoofdklemtoonBody id=\"el9\"> <Plaats_hoofdklemtoon>2de lettergreep</Plaats_hoofdklemtoon> </HoofdklemtoonBody> </Uitspraak> <Woordvorming> <WoordvormingType>samenstelling</WoordvormingType> <Samenstelling> <Linkerlid>aanbidding</Linkerlid> <Linkerlidtype>substantief</Linkerlidtype> <Rechterlid>zanger</Rechterlid> <Rechterlidtype>substantief</Rechterlidtype> <Verbindingsklank>s</Verbindingsklank> </Samenstelling> </Woordvorming> <BijzonderhedenGebruik> <Domein IDID=\"14\">filosofie</Domein> <Domein IDID=\"30\">muziek</Domein> <Domein IDID=\"39\">religie, mystiek en mythologie</Domein> <Tijd>neologisme</Tijd> </BijzonderhedenGebruik> <definitieBody id=\"el10\"> <Definitie>zanger die religieuze, meestal christelijke, liederen zingt</Definitie> <Minidefinitie>zanger van religieuze liederen</Minidefinitie> </definitieBody> <Semagram> <Semagramaanhef>Een aanbiddingszanger</Semagramaanhef> <Categorieen> <Bovencategorie>is een persoon<invis> iemand; mens</invis></Bovencategorie> <Categorie>is een zanger</Categorie> </Categorieen> <Semagramlink> <link> <lemma>zanger</lemma> <dtype>bet</dtype> <desc>2.0 - iemand die zingt als beroep</desc> <pid>185018</pid> </link> </Semagramlink> <Kenmerken> <Handeling_of_werking> <Activiteit_of_handeling>zingt religieuze, meestal christelijke, liederen</Activiteit_of_handeling> </Handeling_of_werking> </Kenmerken> </Semagram> <voorbeeldBody> <Voorbeeld pid=\"493258\" id=\"ex1\"> <Tekst>Met stip binnen op nummer 1: een aanbiddingszanger. De Amerikaanse albumhitlijst wordt deze week aangevoerd door Chris Tomlin, een christelijke aanbiddingszanger [...]. Tomlins populariteit in kerken is geen geheim: een aantal nummers van zijn hand is in protestantse Amerikaanse kerken tot het standaardrepertoire gaan behoren. Ook de Nederlandse Opwekkingsbundel, het officieuze en populaire liedboek van de evangelische beweging, adopteerde een deel van zijn oeuvre. Dat dergelijke \\'specialistische\\' popmuziek de hitlijsten kan aanvoeren lijkt ook veel te zeggen over de totale muziekverkoop.</Tekst> <Bron>Trouw</Bron> <Datering>18 januari 2013</Datering> </Voorbeeld> <Voorbeeld pid=\"586159\" id=\"ex2\"> <Tekst>Is het koningslied nu \\'gekopieerd\\' van een aanbiddingszanger of van Zeeuwse dialectrock?</Tekst> <Datering>15 maart 2013</Datering> <URL>http://www.nieuwsbreak.nl/nieuws/4022737</URL> </Voorbeeld> <Voorbeeld pid=\"586157\" id=\"ex3\"> <Tekst>Zelfs als je door een leider wordt gevraagd: neem geen impulsieve beslissing! Zoek God eerst. Het kan zijn dat je geroepen bent als aanbiddingszanger of -muzikant, maar dat je voor loopt op Gods timing.</Tekst> <Datering>2002</Datering> <URL>http://www.hiscfd.com/download/pdf/DusJijWiltInDeBand_DonPotter.pdf</URL> </Voorbeeld> </voorbeeldBody> <Etymologie> <AardHerkomst>inheems woord</AardHerkomst> <VroegsteDatering>2002</VroegsteDatering> <Neologisme> <Intro>Een aanbiddingszanger is een zanger, maar wel een speciaal soort zanger: het is iemand die alleen religieuze, meestal christelijke, liederen zingt. Het woord wordt gebruikt sinds ongeveer 2002.</Intro> </Neologisme> </Etymologie> </betekenisInfo> </Kernbetekenis> </BetekenisEnGebruik> <LemmaSamenvatting><Lang>aanbiddingszanger</Lang><Kort>aanbiddingszanger</Kort></LemmaSamenvatting></artikel>\\n'"
      ]
     },
     "execution_count": 39,
     "metadata": {},
     "output_type": "execute_result"
    }
   ],
   "source": [
    "df.iloc[0]['xml_file']"
   ]
  },
  {
   "cell_type": "code",
   "execution_count": 40,
   "metadata": {},
   "outputs": [
    {
     "name": "stderr",
     "output_type": "stream",
     "text": [
      "Processing:   0%|          | 0/1969 [00:00<?, ?it/s]"
     ]
    },
    {
     "name": "stderr",
     "output_type": "stream",
     "text": [
      "Processing: 100%|██████████| 1969/1969 [00:28<00:00, 68.08it/s]\n"
     ]
    }
   ],
   "source": [
    "def extract_xml(xml_content):\n",
    "    soup = BeautifulSoup(xml_content, 'html.parser') \n",
    "    return soup.prettify()\n",
    "progress_bar = tqdm(total=len(df), desc='Processing')\n",
    "df['parsed_xml'] = df['xml_file'].apply(lambda x: (progress_bar.update(), extract_xml(x)))\n",
    "progress_bar.close()"
   ]
  },
  {
   "cell_type": "code",
   "execution_count": 41,
   "metadata": {},
   "outputs": [
    {
     "data": {
      "text/html": [
       "<div>\n",
       "<style scoped>\n",
       "    .dataframe tbody tr th:only-of-type {\n",
       "        vertical-align: middle;\n",
       "    }\n",
       "\n",
       "    .dataframe tbody tr th {\n",
       "        vertical-align: top;\n",
       "    }\n",
       "\n",
       "    .dataframe thead th {\n",
       "        text-align: right;\n",
       "    }\n",
       "</style>\n",
       "<table border=\"1\" class=\"dataframe\">\n",
       "  <thead>\n",
       "    <tr style=\"text-align: right;\">\n",
       "      <th></th>\n",
       "      <th>word</th>\n",
       "      <th>xml_file</th>\n",
       "      <th>parsed_xml</th>\n",
       "    </tr>\n",
       "  </thead>\n",
       "  <tbody>\n",
       "    <tr>\n",
       "      <th>0</th>\n",
       "      <td>aanbiddingszanger</td>\n",
       "      <td>b'&lt;artikel last-modified=\"2023-10-04\" ID=\"1512...</td>\n",
       "      <td>(None, &lt;artikel id=\"151279\" last-modified=\"202...</td>\n",
       "    </tr>\n",
       "    <tr>\n",
       "      <th>1</th>\n",
       "      <td>aanblijfpremie</td>\n",
       "      <td>b'&lt;artikel last-modified=\"2023-10-04\" ID=\"7307...</td>\n",
       "      <td>(None, &lt;artikel id=\"73079\" last-modified=\"2023...</td>\n",
       "    </tr>\n",
       "    <tr>\n",
       "      <th>2</th>\n",
       "      <td>aanbodgedreven</td>\n",
       "      <td>b'&lt;artikel last-modified=\"2023-10-04\" ID=\"7308...</td>\n",
       "      <td>(None, &lt;artikel id=\"73080\" last-modified=\"2023...</td>\n",
       "    </tr>\n",
       "    <tr>\n",
       "      <th>3</th>\n",
       "      <td>aanbodgestuurd</td>\n",
       "      <td>b'&lt;artikel last-modified=\"2023-10-04\" ID=\"7308...</td>\n",
       "      <td>(None, &lt;artikel id=\"73081\" last-modified=\"2023...</td>\n",
       "    </tr>\n",
       "    <tr>\n",
       "      <th>4</th>\n",
       "      <td>aandachtseconomie</td>\n",
       "      <td>b'&lt;artikel last-modified=\"2024-02-02\" ID=\"1669...</td>\n",
       "      <td>(None, &lt;artikel id=\"166967\" last-modified=\"202...</td>\n",
       "    </tr>\n",
       "  </tbody>\n",
       "</table>\n",
       "</div>"
      ],
      "text/plain": [
       "                word                                           xml_file  \\\n",
       "0  aanbiddingszanger  b'<artikel last-modified=\"2023-10-04\" ID=\"1512...   \n",
       "1     aanblijfpremie  b'<artikel last-modified=\"2023-10-04\" ID=\"7307...   \n",
       "2     aanbodgedreven  b'<artikel last-modified=\"2023-10-04\" ID=\"7308...   \n",
       "3     aanbodgestuurd  b'<artikel last-modified=\"2023-10-04\" ID=\"7308...   \n",
       "4  aandachtseconomie  b'<artikel last-modified=\"2024-02-02\" ID=\"1669...   \n",
       "\n",
       "                                          parsed_xml  \n",
       "0  (None, <artikel id=\"151279\" last-modified=\"202...  \n",
       "1  (None, <artikel id=\"73079\" last-modified=\"2023...  \n",
       "2  (None, <artikel id=\"73080\" last-modified=\"2023...  \n",
       "3  (None, <artikel id=\"73081\" last-modified=\"2023...  \n",
       "4  (None, <artikel id=\"166967\" last-modified=\"202...  "
      ]
     },
     "execution_count": 41,
     "metadata": {},
     "output_type": "execute_result"
    }
   ],
   "source": [
    "df.head()"
   ]
  },
  {
   "cell_type": "code",
   "execution_count": 42,
   "metadata": {},
   "outputs": [
    {
     "data": {
      "text/plain": [
       "(None,\n",
       " '<artikel id=\"151279\" last-modified=\"2023-10-04\" pid=\"493255\">\\n <lemma>\\n  <lemmavorm>\\n   aanbiddingszanger\\n  </lemmavorm>\\n  <lemmatype>\\n   woord\\n  </lemmatype>\\n </lemma>\\n <betekenisengebruik>\\n  <kernbetekenis id=\"bet1.0\" neo=\"true\" pid=\"493257\">\\n   <betekenisinfo>\\n    <betekenisnummer>\\n     1.0\\n    </betekenisnummer>\\n    <lemma>\\n     <lemmavorm>\\n      aanbiddingszanger\\n     </lemmavorm>\\n     <lemmatype>\\n      woord\\n     </lemmatype>\\n    </lemma>\\n    <spellingdbid>\\n     170196\\n    </spellingdbid>\\n    <woordsoort>\\n     <type>\\n      substantief\\n     </type>\\n     <substantief>\\n      <naamtype>\\n       soortnaam\\n      </naamtype>\\n      <geslachtbody id=\"el6\">\\n       <geslacht>\\n        mannelijk\\n       </geslacht>\\n      </geslachtbody>\\n      <lidwoord id=\"el7\">\\n       <aardlidwoord>\\n        de\\n       </aardlidwoord>\\n      </lidwoord>\\n      <betekenisklasse>\\n       persoonsnaam\\n      </betekenisklasse>\\n     </substantief>\\n    </woordsoort>\\n    <spellingenflexie>\\n     <substantiefvormen>\\n      <enkelvoud lexiconid=\"502408\">\\n       <woordvorm>\\n        aanbiddingszanger\\n       </woordvorm>\\n       <afbreking>\\n        aan.bid.dings.zan.ger\\n       </afbreking>\\n      </enkelvoud>\\n      <meervoud lexiconid=\"486263\">\\n       <woordvorm>\\n        aanbiddingszangers\\n       </woordvorm>\\n       <afbreking>\\n        aan.bid.dings.zan.gers\\n       </afbreking>\\n      </meervoud>\\n     </substantiefvormen>\\n    </spellingenflexie>\\n    <uitspraak>\\n     <aantallettergrepenbody id=\"el8\">\\n      <aantallettergrepen>\\n       5\\n      </aantallettergrepen>\\n     </aantallettergrepenbody>\\n     <hoofdklemtoonbody id=\"el9\">\\n      <plaats_hoofdklemtoon>\\n       2de lettergreep\\n      </plaats_hoofdklemtoon>\\n     </hoofdklemtoonbody>\\n    </uitspraak>\\n    <woordvorming>\\n     <woordvormingtype>\\n      samenstelling\\n     </woordvormingtype>\\n     <samenstelling>\\n      <linkerlid>\\n       aanbidding\\n      </linkerlid>\\n      <linkerlidtype>\\n       substantief\\n      </linkerlidtype>\\n      <rechterlid>\\n       zanger\\n      </rechterlid>\\n      <rechterlidtype>\\n       substantief\\n      </rechterlidtype>\\n      <verbindingsklank>\\n       s\\n      </verbindingsklank>\\n     </samenstelling>\\n    </woordvorming>\\n    <bijzonderhedengebruik>\\n     <domein idid=\"14\">\\n      filosofie\\n     </domein>\\n     <domein idid=\"30\">\\n      muziek\\n     </domein>\\n     <domein idid=\"39\">\\n      religie, mystiek en mythologie\\n     </domein>\\n     <tijd>\\n      neologisme\\n     </tijd>\\n    </bijzonderhedengebruik>\\n    <definitiebody id=\"el10\">\\n     <definitie>\\n      zanger die religieuze, meestal christelijke, liederen zingt\\n     </definitie>\\n     <minidefinitie>\\n      zanger van religieuze liederen\\n     </minidefinitie>\\n    </definitiebody>\\n    <semagram>\\n     <semagramaanhef>\\n      Een aanbiddingszanger\\n     </semagramaanhef>\\n     <categorieen>\\n      <bovencategorie>\\n       is een persoon\\n       <invis>\\n        iemand; mens\\n       </invis>\\n      </bovencategorie>\\n      <categorie>\\n       is een zanger\\n      </categorie>\\n     </categorieen>\\n     <semagramlink>\\n      <link/>\\n      <lemma>\\n       zanger\\n      </lemma>\\n      <dtype>\\n       bet\\n      </dtype>\\n      <desc>\\n       2.0 - iemand die zingt als beroep\\n      </desc>\\n      <pid>\\n       185018\\n      </pid>\\n     </semagramlink>\\n     <kenmerken>\\n      <handeling_of_werking>\\n       <activiteit_of_handeling>\\n        zingt religieuze, meestal christelijke, liederen\\n       </activiteit_of_handeling>\\n      </handeling_of_werking>\\n     </kenmerken>\\n    </semagram>\\n    <voorbeeldbody>\\n     <voorbeeld id=\"ex1\" pid=\"493258\">\\n      <tekst>\\n       Met stip binnen op nummer 1: een aanbiddingszanger. De Amerikaanse albumhitlijst wordt deze week aangevoerd door Chris Tomlin, een christelijke aanbiddingszanger [...]. Tomlins populariteit in kerken is geen geheim: een aantal nummers van zijn hand is in protestantse Amerikaanse kerken tot het standaardrepertoire gaan behoren. Ook de Nederlandse Opwekkingsbundel, het officieuze en populaire liedboek van de evangelische beweging, adopteerde een deel van zijn oeuvre. Dat dergelijke \\'specialistische\\' popmuziek de hitlijsten kan aanvoeren lijkt ook veel te zeggen over de totale muziekverkoop.\\n      </tekst>\\n      <bron>\\n       Trouw\\n      </bron>\\n      <datering>\\n       18 januari 2013\\n      </datering>\\n     </voorbeeld>\\n     <voorbeeld id=\"ex2\" pid=\"586159\">\\n      <tekst>\\n       Is het koningslied nu \\'gekopieerd\\' van een aanbiddingszanger of van Zeeuwse dialectrock?\\n      </tekst>\\n      <datering>\\n       15 maart 2013\\n      </datering>\\n      <url>\\n       http://www.nieuwsbreak.nl/nieuws/4022737\\n      </url>\\n     </voorbeeld>\\n     <voorbeeld id=\"ex3\" pid=\"586157\">\\n      <tekst>\\n       Zelfs als je door een leider wordt gevraagd: neem geen impulsieve beslissing! Zoek God eerst. Het kan zijn dat je geroepen bent als aanbiddingszanger of -muzikant, maar dat je voor loopt op Gods timing.\\n      </tekst>\\n      <datering>\\n       2002\\n      </datering>\\n      <url>\\n       http://www.hiscfd.com/download/pdf/DusJijWiltInDeBand_DonPotter.pdf\\n      </url>\\n     </voorbeeld>\\n    </voorbeeldbody>\\n    <etymologie>\\n     <aardherkomst>\\n      inheems woord\\n     </aardherkomst>\\n     <vroegstedatering>\\n      2002\\n     </vroegstedatering>\\n     <neologisme>\\n      <intro>\\n       Een aanbiddingszanger is een zanger, maar wel een speciaal soort zanger: het is iemand die alleen religieuze, meestal christelijke, liederen zingt. Het woord wordt gebruikt sinds ongeveer 2002.\\n      </intro>\\n     </neologisme>\\n    </etymologie>\\n   </betekenisinfo>\\n  </kernbetekenis>\\n </betekenisengebruik>\\n <lemmasamenvatting>\\n  <lang>\\n   aanbiddingszanger\\n  </lang>\\n  <kort>\\n   aanbiddingszanger\\n  </kort>\\n </lemmasamenvatting>\\n</artikel>\\n')"
      ]
     },
     "execution_count": 42,
     "metadata": {},
     "output_type": "execute_result"
    }
   ],
   "source": [
    "df.parsed_xml[0]"
   ]
  },
  {
   "cell_type": "code",
   "execution_count": 43,
   "metadata": {},
   "outputs": [],
   "source": [
    "df['parsed_xml'] = df['parsed_xml'].apply(lambda x: str(x[1]))\n"
   ]
  },
  {
   "cell_type": "code",
   "execution_count": 49,
   "metadata": {},
   "outputs": [
    {
     "name": "stdout",
     "output_type": "stream",
     "text": [
      "True\n",
      "Lemma element not found.\n"
     ]
    }
   ],
   "source": [
    "result = True\n",
    "for index, row in df.iterrows():\n",
    "    soup = BeautifulSoup(row['parsed_xml'], 'html.parser')\n",
    "    lemma_element = soup.find('lemma')\n",
    "    if not lemma_element:\n",
    "        result = False\n",
    "        print(index)\n",
    "print(result)\n"
   ]
  },
  {
   "cell_type": "code",
   "execution_count": 53,
   "metadata": {},
   "outputs": [],
   "source": [
    "df.to_csv('Data/dut_neo_xml.csv', index = False)"
   ]
  },
  {
   "cell_type": "code",
   "execution_count": 7,
   "metadata": {},
   "outputs": [
    {
     "data": {
      "text/html": [
       "<div>\n",
       "<style scoped>\n",
       "    .dataframe tbody tr th:only-of-type {\n",
       "        vertical-align: middle;\n",
       "    }\n",
       "\n",
       "    .dataframe tbody tr th {\n",
       "        vertical-align: top;\n",
       "    }\n",
       "\n",
       "    .dataframe thead th {\n",
       "        text-align: right;\n",
       "    }\n",
       "</style>\n",
       "<table border=\"1\" class=\"dataframe\">\n",
       "  <thead>\n",
       "    <tr style=\"text-align: right;\">\n",
       "      <th></th>\n",
       "      <th>word</th>\n",
       "      <th>xml_file</th>\n",
       "    </tr>\n",
       "  </thead>\n",
       "  <tbody>\n",
       "    <tr>\n",
       "      <th>0</th>\n",
       "      <td>#MeToo</td>\n",
       "      <td>b'\\n\\n\\n\\n\\n\\n\\n\\n&lt;!DOCTYPE html&gt;\\n&lt;html lang=...</td>\n",
       "    </tr>\n",
       "    <tr>\n",
       "      <th>1</th>\n",
       "      <td>007</td>\n",
       "      <td>b'&lt;artikel last-modified=\"2024-01-09\" kopje=\"t...</td>\n",
       "    </tr>\n",
       "    <tr>\n",
       "      <th>2</th>\n",
       "      <td>06-dealer</td>\n",
       "      <td>b'&lt;artikel last-modified=\"2024-02-23\" ID=\"7121...</td>\n",
       "    </tr>\n",
       "    <tr>\n",
       "      <th>3</th>\n",
       "      <td>06-nummer</td>\n",
       "      <td>b'&lt;artikel last-modified=\"2024-03-01\" ID=\"6896...</td>\n",
       "    </tr>\n",
       "    <tr>\n",
       "      <th>4</th>\n",
       "      <td>06-prostitutie</td>\n",
       "      <td>b'&lt;artikel last-modified=\"2023-10-04\" ID=\"8749...</td>\n",
       "    </tr>\n",
       "  </tbody>\n",
       "</table>\n",
       "</div>"
      ],
      "text/plain": [
       "             word                                           xml_file\n",
       "0          #MeToo  b'\\n\\n\\n\\n\\n\\n\\n\\n<!DOCTYPE html>\\n<html lang=...\n",
       "1             007  b'<artikel last-modified=\"2024-01-09\" kopje=\"t...\n",
       "2       06-dealer  b'<artikel last-modified=\"2024-02-23\" ID=\"7121...\n",
       "3       06-nummer  b'<artikel last-modified=\"2024-03-01\" ID=\"6896...\n",
       "4  06-prostitutie  b'<artikel last-modified=\"2023-10-04\" ID=\"8749..."
      ]
     },
     "execution_count": 7,
     "metadata": {},
     "output_type": "execute_result"
    }
   ],
   "source": [
    "df.head()"
   ]
  },
  {
   "cell_type": "code",
   "execution_count": 9,
   "metadata": {},
   "outputs": [
    {
     "data": {
      "text/plain": [
       "b'<artikel last-modified=\"2024-01-09\" kopje=\"true\" ID=\"156529\" pid=\"932425\"> <Lemma> <Lemmavorm>007</Lemmavorm> <Lemmatype>woord</Lemmatype> </Lemma>      <BetekenisEnGebruik> <Kernbetekenis pid=\"932426\" id=\"bet1.0\"> <betekenisInfo> <Betekenisnummer>1.0</Betekenisnummer> <Lemma> <Lemmavorm>007</Lemmavorm> <Lemmatype>woord</Lemmatype> </Lemma> <SpellingDbId>905043</SpellingDbId> <Woordsoort> <Type>substantief</Type> <Substantief> <Naamtype>soortnaam</Naamtype> <GeslachtBody id=\"el2\"> <Geslacht>mannelijk of vrouwelijk</Geslacht> </GeslachtBody> <Lidwoord id=\"el3\"> <AardLidwoord>de</AardLidwoord> </Lidwoord> <Betekenisklasse>persoonsnaam</Betekenisklasse> </Substantief> </Woordsoort> <SpellingEnFlexie> <SubstantiefVormen> <Enkelvoud LexiconId=\"715292\"> <Woordvorm>007</Woordvorm> <Afbreking>007</Afbreking> </Enkelvoud> <Meervoud LexiconId=\"715293\"> <Woordvorm>007\\'s</Woordvorm> <Afbreking>007\\'s</Afbreking> </Meervoud> </SubstantiefVormen> </SpellingEnFlexie> <Uitspraak> <AantalLettergrepenBody id=\"el4\"> <AantalLettergrepen>4</AantalLettergrepen> </AantalLettergrepenBody> <HoofdklemtoonBody id=\"el5\"> <Plaats_hoofdklemtoon>3de lettergreep</Plaats_hoofdklemtoon> </HoofdklemtoonBody> <UitspraakwijzeBody id=\"el6\"> <Wijze_van_uitspraak>Engels</Wijze_van_uitspraak> </UitspraakwijzeBody> <UitspraakwijzeBody id=\"el7\"> <Wijze_van_uitspraak>Nederlands</Wijze_van_uitspraak> </UitspraakwijzeBody> </Uitspraak> <Woordvorming> <WoordvormingType>ongeleed</WoordvormingType> </Woordvorming> </betekenisInfo> </Kernbetekenis> </BetekenisEnGebruik> <LemmaSamenvatting><Lang>007</Lang><Kort>007</Kort></LemmaSamenvatting></artikel>\\n'"
      ]
     },
     "execution_count": 9,
     "metadata": {},
     "output_type": "execute_result"
    }
   ],
   "source": [
    "df.iloc[1]['xml_file']"
   ]
  },
  {
   "cell_type": "code",
   "execution_count": 16,
   "metadata": {},
   "outputs": [
    {
     "data": {
      "text/plain": [
       "2013    b'<artikel last-modified=\"2023-10-04\" ID=\"1496...\n",
       "Name: xml_file, dtype: object"
      ]
     },
     "execution_count": 16,
     "metadata": {},
     "output_type": "execute_result"
    }
   ],
   "source": [
    "adipositas_entry = df[df['word'] == 'adipositas']\n",
    "adipositas_entry['xml_file']"
   ]
  },
  {
   "cell_type": "code",
   "execution_count": 21,
   "metadata": {},
   "outputs": [
    {
     "name": "stdout",
     "output_type": "stream",
     "text": [
      "            word                                           xml_file\n",
      "2013  adipositas  b'<artikel last-modified=\"2023-10-04\" ID=\"1496...\n"
     ]
    }
   ],
   "source": [
    "print(adipositas_entry)"
   ]
  },
  {
   "cell_type": "code",
   "execution_count": 23,
   "metadata": {},
   "outputs": [
    {
     "data": {
      "text/plain": [
       "b'<artikel last-modified=\"2023-10-04\" ID=\"149693\" pid=\"481964\"> <Lemma> <Lemmavorm>adipositas</Lemmavorm> <Lemmatype>woord</Lemmatype> </Lemma>       <BetekenisEnGebruik> <Kernbetekenis pid=\"879179\" id=\"bet1.0\"> <betekenisInfo> <Betekenisnummer>1.0</Betekenisnummer> <Lemma> <Lemmavorm>adipositas</Lemmavorm> <Lemmatype>woord</Lemmatype> </Lemma> <SpellingDbId>101775</SpellingDbId> <Woordsoort> <Type>substantief</Type> <Substantief> <Naamtype>soortnaam</Naamtype> <GeslachtBody id=\"el6\"> <Geslacht>vrouwelijk</Geslacht> </GeslachtBody> <Lidwoord id=\"el7\"> <AardLidwoord>de</AardLidwoord> </Lidwoord> <Getal>geen meervoud</Getal> <Betekenisklasse>abstractum</Betekenisklasse> </Substantief> </Woordsoort> <SpellingEnFlexie> <SubstantiefVormen> <Enkelvoud LexiconId=\"109674\"> <Woordvorm>adipositas</Woordvorm> <Afbreking>adi.po.si.tas</Afbreking> </Enkelvoud> </SubstantiefVormen> </SpellingEnFlexie> <Uitspraak> <AantalLettergrepenBody id=\"el8\"> <AantalLettergrepen>5</AantalLettergrepen> </AantalLettergrepenBody> <HoofdklemtoonBody id=\"el9\"> <Plaats_hoofdklemtoon>3de lettergreep</Plaats_hoofdklemtoon> </HoofdklemtoonBody> <FonetischeSchrijfwijze>a\\xcb\\x90 . d i . *p o\\xcb\\x90 . z i . \\'t \\xc9\\x91 s</FonetischeSchrijfwijze> </Uitspraak> <Woordvorming> <WoordvormingType>in brontaal geleed</WoordvormingType> </Woordvorming> <BijzonderhedenGebruik> <Domein IDID=\"52\">wetenschap</Domein> <Domein IDID=\"20\">gezondheid, geneeskunde en zorg</Domein> </BijzonderhedenGebruik> <definitieBody id=\"el10\"> <Definitie>overmatige vetstapeling in het lichaam die gezondheidsrisico\\'s oplevert; ernstig overgewicht; obesitas; vetzucht</Definitie> <Minidefinitie>ernstig overgewicht</Minidefinitie> </definitieBody> <Woordrelaties> <Hyperoniem> <link> <lemma>overgewicht</lemma> <dtype>art</dtype> <pid>116223</pid> </link> </Hyperoniem> <SynoniemBody id=\"el11\"> <Synoniem> <link exists=\"true\"> <lemma>obesitas</lemma> <dtype>bet</dtype> <desc>1.0 - ernstig overgewicht</desc> <pid>107055</pid> </link> <link exists=\"true\"> <lemma>vetzucht</lemma> <dtype>bet</dtype> <desc>1.0 - ernstig overgewicht</desc> <pid>169871</pid> </link> </Synoniem> </SynoniemBody> </Woordrelaties> <Semagram> <Semagramaanhef>Adipositas</Semagramaanhef> <Categorieen> <Bovencategorie>is een aandoening</Bovencategorie> <Categorie>is overgewicht</Categorie> </Categorieen> <Semagramlink> <link exists=\"true\"> <lemma>obesitas</lemma> <dtype>bet</dtype> <desc>1.0 - ernstig overgewicht</desc> <pid>107055</pid> </link> </Semagramlink> </Semagram> <voorbeeldBody> <Voorbeeld pid=\"879249\" id=\"ex1\"> <Tekst>Men spreekt van adipositas (synoniem obesitas) wanneer er sprake is van een overgewicht &gt; 20% boven het ideaal gewicht.</Tekst> <URL>https://www.huidziekten.nl/zakboek/dermatosen/btxt/BMI.htm</URL> </Voorbeeld> <Voorbeeld pid=\"879240\" id=\"ex2\"> <Tekst>\\'Overgewicht\\' is gedefinieerd als een \\'body mass index\\' (BMI) van 25-29,9 kg/m2. Van \\'adipositas\\' wordt gesproken bij een BMI van &gt; 30 kg/m2.</Tekst> <Datering>17 november 2004</Datering> <URL>https://www.ntvg.nl/artikelen/morbide-adipositas-risicofactor-voor-obstetrische-complicaties/volledig</URL> </Voorbeeld> <Voorbeeld pid=\"879242\" id=\"ex3\"> <Tekst>Adipositas gaat samen met een verhoogd risico op cardiovasculaire ziekte en diabetes mellitus type 2.</Tekst> <Datering>8 juli 2001</Datering> <URL>https://www.ntvg.nl/artikelen/abdominale-adipositas-metabole-complicaties-en-gevolgen-voor-de-lever/volledig</URL> </Voorbeeld> <Voorbeeld pid=\"879256\" id=\"ex4\"> <Tekst>&quot;Als je kijkt naar de gevolgen, dan mag je vetzucht gerust een volksziekte noemen&quot;, aldus Paul Deurenberg. &quot;Vetzucht (met een vreemd woord adipositas) vergroot de kans op ongelukken, in het verkeer en thuis. Dikke mensen zijn minder beweeglijk en kunnen daarom gevaren minder snel ontwijken.&quot;</Tekst> <Datering>15 maart 1977</Datering> <URL>https://www.delpher.nl/nl/kranten/view?query=adipositas&amp;coll=ddd&amp;page=2&amp;identifier=ddd:010563414:mpeg21:a0197&amp;resultsidentifier=ddd:010563414:mpeg21:a0197</URL> </Voorbeeld> </voorbeeldBody> <combinatiesBody> <Combinaties id=\"el12\"> <TrefwoordType>substantief</TrefwoordType> <SubstantiefCombi> <SubstantiefRol>als subject bij een werkwoord</SubstantiefRol> <CombinatieInfo> <RealisatieBody id=\"el13\"> <Realisatie>voorkomen</Realisatie> </RealisatieBody> <voorbeeldBody> <Voorbeeld pid=\"879237\" id=\"ex5\"> <Tekst>In de westerse wereld komt adipositas in toenemende mate voor en vanaf steeds jongere leeftijd.</Tekst> <Datering>17 november 2004</Datering> <URL>https://www.ntvg.nl/artikelen/morbide-adipositas-risicofactor-voor-obstetrische-complicaties/volledig</URL> </Voorbeeld> </voorbeeldBody> </CombinatieInfo> </SubstantiefCombi> </Combinaties> <Combinaties id=\"el14\"> <TrefwoordType>substantief</TrefwoordType> <SubstantiefCombi> <SubstantiefRol>met adjectief ervoor</SubstantiefRol> <CombinatieInfo> <RealisatieBody id=\"el15\"> <Realisatie>morbide adipositas</Realisatie> </RealisatieBody> <voorbeeldBody> <Voorbeeld pid=\"879238\" id=\"ex6\"> <Tekst>Morbide adipositas gaat gepaard met ernstige lichamelijke aandoeningen en psychosociaal lijden. De selectieprocedure voor het ondergaan van bariatrische chirurgie, de enige effectieve interventie, is dan ook een multidisciplinaire aangelegenheid.</Tekst> <Datering>4 december 2002</Datering> <URL>https://www.medischcontact.nl/nieuws/laatste-nieuws/artikel/zwaarwegend-probleem.htm</URL> </Voorbeeld> <Voorbeeld pid=\"879241\" id=\"ex7\"> <Tekst>Een BMI &gt; 40 kg/m2 wordt \\'morbide adipositas\\' genoemd.</Tekst> <Datering>17 november 2004</Datering> <URL>https://www.ntvg.nl/artikelen/morbide-adipositas-risicofactor-voor-obstetrische-complicaties/volledig</URL> </Voorbeeld> </voorbeeldBody> </CombinatieInfo> </SubstantiefCombi> </Combinaties> <Combinaties id=\"el16\"> <TrefwoordType>substantief</TrefwoordType> <SubstantiefCombi> <SubstantiefRol>in voorzetselgroep</SubstantiefRol> <CombinatieInfo> <RealisatieBody id=\"el17\"> <Realisatie>aan adipositas lijden</Realisatie> </RealisatieBody> <voorbeeldBody> <Voorbeeld pid=\"879250\" id=\"ex8\"> <Tekst>&quot;Begin jaren 70 bleek dat 10 tot 40% van de Nederlandse bevolking aan vetzucht of adipositas zou lijden,&quot; zegt dr. ing. Tineke Brussaard, secretaris van een commissie van de Gezondheidsraad. Een ernstige zaak; vetzucht in die mate zou een bedreiging zijn voor de algehele Nederlandse volksgezondheid. De afgelopen jaren zijn er dan ook heel wat onderzoeken naar adipositas gedaan.&quot;</Tekst> <Datering>26 november 1984</Datering> <URL>https://www.delpher.nl/nl/kranten/view?query=adipositas&amp;coll=ddd&amp;identifier=ddd:011206029:mpeg21:a0184&amp;resultsidentifier=ddd:011206029:mpeg21:a0184</URL> </Voorbeeld> </voorbeeldBody> </CombinatieInfo> <CombinatieInfo> <RealisatieBody id=\"el18\"> <Realisatie>bij adipositas</Realisatie> </RealisatieBody> <voorbeeldBody> <Voorbeeld pid=\"879245\" id=\"ex9\"> <Tekst>Bij adipositas of vetlijvigheid is er sprake van een duidelijke en abnormale toename van het vetweefsel.</Tekst> <Datering>18 februari 2013</Datering> <URL>https://www.menselijklichaam.nl/algemeen/adipositas/</URL> </Voorbeeld> </voorbeeldBody> </CombinatieInfo> <CombinatieInfo> <RealisatieBody id=\"el19\"> <Realisatie>vrouwen met adipositas</Realisatie> </RealisatieBody> <voorbeeldBody> <Voorbeeld pid=\"879253\" id=\"ex10\"> <Tekst>Praatgroep voor vrouwen met eetproblemen, bulimia en adipositas start maandagavond 2 sept. in Amsterdam.</Tekst> <Datering>6 juli 1991</Datering> <URL>https://www.delpher.nl/nl/kranten/view?query=adipositas&amp;coll=ddd&amp;identifier=ABCDDD:010824383:mpeg21:a0139&amp;resultsidentifier=ABCDDD:010824383:mpeg21:a0139</URL> </Voorbeeld> <Voorbeeld pid=\"879239\" id=\"ex11\"> <Tekst>In de westerse wereld komt adipositas in toenemende mate voor en vanaf steeds jongere leeftijd. Logischerwijs leidt dit ook tot meer zwangere vrouwen met adipositas.</Tekst> <Datering>17 november 2004</Datering> <URL>https://www.ntvg.nl/artikelen/morbide-adipositas-risicofactor-voor-obstetrische-complicaties/volledig</URL> </Voorbeeld> </voorbeeldBody> </CombinatieInfo> <CombinatieInfo> <RealisatieBody id=\"el20\"> <Realisatie>onderzoeken naar adipositas</Realisatie> </RealisatieBody> <voorbeeldBody> <Voorbeeld pid=\"879252\" id=\"ex12\"> <Tekst>&quot;Begin jaren 70 bleek dat 10 tot 40% van de Nederlandse bevolking aan vetzucht of adipositas zou lijden,&quot; zegt dr. ing. Tineke Brussaard, secretaris van een commissie van de Gezondheidsraad. Een ernstige zaak; vetzucht in die mate zou een bedreiging zijn voor de algehele Nederlandse volksgezondheid. De afgelopen jaren zijn er dan ook heel wat onderzoeken naar adipositas gedaan.&quot;</Tekst> <Datering>26 november 1984</Datering> <URL>https://www.delpher.nl/nl/kranten/view?query=adipositas&amp;coll=ddd&amp;identifier=ddd:011206029:mpeg21:a0184&amp;resultsidentifier=ddd:011206029:mpeg21:a0184</URL> </Voorbeeld> </voorbeeldBody> </CombinatieInfo> </SubstantiefCombi> </Combinaties> <Combinaties id=\"el21\"> <TrefwoordType>substantief</TrefwoordType> <SubstantiefCombi> <SubstantiefRol>met ander, nevengeschikt substantief</SubstantiefRol> <CombinatieInfo> <RealisatieBody id=\"el22\"> <Realisatie>adipositas of vetlijvigheid</Realisatie> </RealisatieBody> <voorbeeldBody> <Voorbeeld pid=\"879246\" id=\"ex13\"> <Tekst>Bij adipositas of vetlijvigheid is er sprake van een duidelijke en abnormale toename van het vetweefsel. Bij gezonde jonge mannen is het normale vetgehalte ongeveer 12%, bij vrouwen ongeveer 26% van het lichaamsgewicht.</Tekst> <Datering>18 februari 2013</Datering> <URL>https://www.menselijklichaam.nl/algemeen/adipositas/</URL> </Voorbeeld> </voorbeeldBody> </CombinatieInfo> <CombinatieInfo> <RealisatieBody id=\"el23\"> <Realisatie>eetproblemen, bulimia en adipositas</Realisatie> <Realisatie>vetzucht of adipositas</Realisatie> </RealisatieBody> <voorbeeldBody> <Voorbeeld pid=\"879254\" id=\"ex14\"> <Tekst>Praatgroep voor vrouwen met eetproblemen, bulimia en adipositas start maandagavond 2 sept. in Amsterdam.</Tekst> <Datering>6 juli 1991</Datering> <URL>https://www.delpher.nl/nl/kranten/view?query=adipositas&amp;coll=ddd&amp;identifier=ABCDDD:010824383:mpeg21:a0139&amp;resultsidentifier=ABCDDD:010824383:mpeg21:a0139</URL> </Voorbeeld> <Voorbeeld pid=\"879251\" id=\"ex15\"> <Tekst>&quot;Begin jaren 70 bleek dat 10 tot 40% van de Nederlandse bevolking aan vetzucht of adipositas zou lijden,&quot; zegt dr. ing. Tineke Brussaard, secretaris van een commissie van de Gezondheidsraad.</Tekst> <Datering>26 november 1984</Datering> <URL>https://www.delpher.nl/nl/kranten/view?query=adipositas&amp;coll=ddd&amp;identifier=ddd:011206029:mpeg21:a0184&amp;resultsidentifier=ddd:011206029:mpeg21:a0184</URL> </Voorbeeld> <Voorbeeld pid=\"879257\" id=\"ex16\"> <Tekst>Meet uw gewicht (in kilo\\'s) en uw lengte (in meters). Deel het eerste getal door het kwadraat van het tweede: kg/m. Dit cijfer is uw Quetelet-index. Is die boven de dertig, dan spreekt de wetenschap van vetzucht of adipositas.</Tekst> <Datering>22 maart 1990</Datering> <URL>https://www.delpher.nl/nl/kranten/view?query=adipositas&amp;page=4&amp;coll=ddd&amp;identifier=KBNRC01:000029505:mpeg21:a0179&amp;resultsidentifier=KBNRC01:000029505:mpeg21:a0179</URL> </Voorbeeld> </voorbeeldBody> </CombinatieInfo> </SubstantiefCombi> </Combinaties> </combinatiesBody> <Woordfamilie> <SamenstellingenMetTrefwoordAlsLinkerlid> <link> <lemma>adipositasbehandeling</lemma> <dtype>art</dtype> <pid>881057</pid> </link> <link> <lemma>adipositasfiguur</lemma> <dtype>art</dtype> <pid>881060</pid> </link> <link> <lemma>adipositasgerelateerd</lemma> <dtype>art</dtype> <pid>881059</pid> </link> <link> <lemma>adipositaskuur</lemma> <dtype>art</dtype> <pid>879244</pid> </link> <link> <lemma>adipositasprofiel</lemma> <dtype>art</dtype> <pid>881061</pid> </link> <link> <lemma>adipositasweegschaal</lemma> <dtype>art</dtype> <pid>879247</pid> </link> </SamenstellingenMetTrefwoordAlsLinkerlid> </Woordfamilie> </betekenisInfo> </Kernbetekenis> </BetekenisEnGebruik> <LemmaSamenvatting><Lang>adipositas</Lang><Kort>adipositas</Kort></LemmaSamenvatting></artikel>\\n'"
      ]
     },
     "execution_count": 23,
     "metadata": {},
     "output_type": "execute_result"
    }
   ],
   "source": [
    "df.iloc[2013]['xml_file']"
   ]
  },
  {
   "cell_type": "code",
   "execution_count": 25,
   "metadata": {},
   "outputs": [
    {
     "name": "stdout",
     "output_type": "stream",
     "text": [
      "28781\n"
     ]
    }
   ],
   "source": [
    "count = df[df['xml_file'].str.decode('utf-8').str.contains('Voorbeeld')].shape[0]\n",
    "print(count)"
   ]
  },
  {
   "cell_type": "code",
   "execution_count": 26,
   "metadata": {},
   "outputs": [
    {
     "name": "stdout",
     "output_type": "stream",
     "text": [
      "                        word  \\\n",
      "2                  06-dealer   \n",
      "3                  06-nummer   \n",
      "4             06-prostitutie   \n",
      "7          1,5 metereconomie   \n",
      "8      1,5 metermaatschappij   \n",
      "...                      ...   \n",
      "86574             Zwollenaar   \n",
      "86576                 Zwolse   \n",
      "86578                 zzp'en   \n",
      "86579                 zzp'er   \n",
      "86580                    ZZS   \n",
      "\n",
      "                                                xml_file  \n",
      "2      b'<artikel last-modified=\"2024-02-23\" ID=\"7121...  \n",
      "3      b'<artikel last-modified=\"2024-03-01\" ID=\"6896...  \n",
      "4      b'<artikel last-modified=\"2023-10-04\" ID=\"8749...  \n",
      "7      b'<artikel last-modified=\"2024-03-01\" ID=\"1599...  \n",
      "8      b'<artikel last-modified=\"2024-03-01\" ID=\"1616...  \n",
      "...                                                  ...  \n",
      "86574  b'<artikel last-modified=\"2023-10-04\" ID=\"6873...  \n",
      "86576  b'<artikel last-modified=\"2023-10-04\" ID=\"7075...  \n",
      "86578  b'<artikel last-modified=\"2023-11-01\" ID=\"1553...  \n",
      "86579  b'<artikel last-modified=\"2023-11-01\" ID=\"6936...  \n",
      "86580  b'<artikel last-modified=\"2024-01-20\" ID=\"1670...  \n",
      "\n",
      "[28781 rows x 2 columns]\n"
     ]
    }
   ],
   "source": [
    "filtered_df = df[df['xml_file'].str.decode('utf-8').str.contains('Voorbeeld')]\n",
    "print(filtered_df)"
   ]
  },
  {
   "cell_type": "code",
   "execution_count": 27,
   "metadata": {},
   "outputs": [
    {
     "data": {
      "text/html": [
       "<div>\n",
       "<style scoped>\n",
       "    .dataframe tbody tr th:only-of-type {\n",
       "        vertical-align: middle;\n",
       "    }\n",
       "\n",
       "    .dataframe tbody tr th {\n",
       "        vertical-align: top;\n",
       "    }\n",
       "\n",
       "    .dataframe thead th {\n",
       "        text-align: right;\n",
       "    }\n",
       "</style>\n",
       "<table border=\"1\" class=\"dataframe\">\n",
       "  <thead>\n",
       "    <tr style=\"text-align: right;\">\n",
       "      <th></th>\n",
       "      <th>word</th>\n",
       "      <th>xml_file</th>\n",
       "    </tr>\n",
       "  </thead>\n",
       "  <tbody>\n",
       "    <tr>\n",
       "      <th>2</th>\n",
       "      <td>06-dealer</td>\n",
       "      <td>b'&lt;artikel last-modified=\"2024-02-23\" ID=\"7121...</td>\n",
       "    </tr>\n",
       "    <tr>\n",
       "      <th>3</th>\n",
       "      <td>06-nummer</td>\n",
       "      <td>b'&lt;artikel last-modified=\"2024-03-01\" ID=\"6896...</td>\n",
       "    </tr>\n",
       "    <tr>\n",
       "      <th>4</th>\n",
       "      <td>06-prostitutie</td>\n",
       "      <td>b'&lt;artikel last-modified=\"2023-10-04\" ID=\"8749...</td>\n",
       "    </tr>\n",
       "    <tr>\n",
       "      <th>7</th>\n",
       "      <td>1,5 metereconomie</td>\n",
       "      <td>b'&lt;artikel last-modified=\"2024-03-01\" ID=\"1599...</td>\n",
       "    </tr>\n",
       "    <tr>\n",
       "      <th>8</th>\n",
       "      <td>1,5 metermaatschappij</td>\n",
       "      <td>b'&lt;artikel last-modified=\"2024-03-01\" ID=\"1616...</td>\n",
       "    </tr>\n",
       "  </tbody>\n",
       "</table>\n",
       "</div>"
      ],
      "text/plain": [
       "                    word                                           xml_file\n",
       "2              06-dealer  b'<artikel last-modified=\"2024-02-23\" ID=\"7121...\n",
       "3              06-nummer  b'<artikel last-modified=\"2024-03-01\" ID=\"6896...\n",
       "4         06-prostitutie  b'<artikel last-modified=\"2023-10-04\" ID=\"8749...\n",
       "7      1,5 metereconomie  b'<artikel last-modified=\"2024-03-01\" ID=\"1599...\n",
       "8  1,5 metermaatschappij  b'<artikel last-modified=\"2024-03-01\" ID=\"1616..."
      ]
     },
     "execution_count": 27,
     "metadata": {},
     "output_type": "execute_result"
    }
   ],
   "source": [
    "filtered_df.head()"
   ]
  },
  {
   "cell_type": "code",
   "execution_count": 28,
   "metadata": {},
   "outputs": [
    {
     "data": {
      "text/plain": [
       "b'<artikel last-modified=\"2024-02-23\" ID=\"71214\" pid=\"190832\"> <Lemma> <Lemmavorm>06-dealer</Lemmavorm> <Lemmatype>woord</Lemmatype> </Lemma>       <BetekenisEnGebruik> <Kernbetekenis pid=\"190834\" id=\"bet1.0\"> <betekenisInfo> <Betekenisnummer>1.0</Betekenisnummer> <Lemma> <Lemmavorm>06-dealer</Lemmavorm> <Lemmatype>woord</Lemmatype> </Lemma> <SpellingDbId>170109</SpellingDbId> <Woordsoort> <Type>substantief</Type> <Substantief> <Naamtype>soortnaam</Naamtype> <GeslachtBody id=\"el6\"> <Geslacht>mannelijk</Geslacht> </GeslachtBody> <Lidwoord id=\"el7\"> <AardLidwoord>de</AardLidwoord> </Lidwoord> <Betekenisklasse>persoonsnaam</Betekenisklasse> </Substantief> </Woordsoort> <SpellingEnFlexie> <SubstantiefVormen> <Enkelvoud LexiconId=\"504881\"> <Woordvorm>06-dealer</Woordvorm> <Afbreking>06-.dea.ler</Afbreking> </Enkelvoud> <Meervoud LexiconId=\"470570\"> <Woordvorm>06-dealers</Woordvorm> <Afbreking>06-.dea.lers</Afbreking> </Meervoud> <Verkleiningsvorm LexiconId=\"782607\"> <Woordvorm>06-dealertje</Woordvorm> <Afbreking>06-.dea.ler.tje</Afbreking> </Verkleiningsvorm> </SubstantiefVormen> </SpellingEnFlexie> <Uitspraak> <AantalLettergrepenBody id=\"el8\"> <AantalLettergrepen>4</AantalLettergrepen> </AantalLettergrepenBody> <HoofdklemtoonBody id=\"el9\"> <Plaats_hoofdklemtoon>2de lettergreep</Plaats_hoofdklemtoon> </HoofdklemtoonBody> <FonetischeSchrijfwijze>\\'n \\xca\\x8f l . *z \\xc9\\x9b s . \\'d i . l \\xc9\\x99 r</FonetischeSchrijfwijze> </Uitspraak> <Woordvorming> <WoordvormingType>samenstelling</WoordvormingType> <Samenstelling> <Linkerlid>06</Linkerlid> <Linkerlidtype>getal</Linkerlidtype> <Rechterlid>dealer</Rechterlid> <Rechterlidtype>substantief</Rechterlidtype> <Verbindingsklank>geen</Verbindingsklank> </Samenstelling> </Woordvorming> <BijzonderhedenGebruik> <Taalvarieteit>(vooral) in Nederland</Taalvarieteit> <Domein IDID=\"7\">media, communicatie en telecommunicatie</Domein> <Domein IDID=\"12\">eten, drinken en genotmiddelen</Domein> <Tijd>neologisme</Tijd> </BijzonderhedenGebruik> <definitieBody id=\"el10\"> <Definitie>drugsdealer die via zijn mobiele telefoon een bestelling voor drugs doorkrijgt en deze vervolgens op afspraak aflevert</Definitie> <Minidefinitie>drugsdealer die via zijn mobiel werkt</Minidefinitie> </definitieBody> <Woordrelaties> <Hyperoniem> <link exists=\"true\"> <lemma>dealer</lemma> <dtype>art</dtype> <pid>36043</pid> </link> </Hyperoniem> </Woordrelaties> <Semagram> <Semagramaanhef>Een 06-dealer</Semagramaanhef> <Categorieen> <Bovencategorie>is een persoon<invis> iemand; mens</invis></Bovencategorie> <Categorie>is een dealer<invis> drugsdealer</invis></Categorie> <Kenmerkklasse>nomen agentis</Kenmerkklasse> </Categorieen> <Kenmerken> <Handeling_of_werking> <Activiteit_of_handeling>krijgt via izijn mobiele telefoon een bestelling voor drugs door en levert deze vervolgens op afspraak af</Activiteit_of_handeling> </Handeling_of_werking> </Kenmerken> </Semagram> <voorbeeldBody> <Voorbeeld pid=\"193104\" id=\"ex1\"> <Tekst>Amsterdamse clubbezoekers betaalden in 2008 in het uitgaansleven minder voor een ecstasypil dan in 2003 (gemiddeld respectievelijk \\xe2\\x82\\xac5,5 en \\xe2\\x82\\xac3,6). In 2008 was de gemiddelde prijs van een ecstasypil bij een 06-dealer en een dealer thuis minder hoog dan in het uitgaansleven (respectievelijk \\xe2\\x82\\xac3,3 en \\xe2\\x82\\xac2,7).</Tekst> <Datering>30 mei 2010</Datering> <URL>http://www.trimbos.nl/onderwerpen/alcohol-en-drugs/xtc/xtc-algemeen/prijsindicatie</URL> </Voorbeeld> <Voorbeeld pid=\"191257\" id=\"ex2\"> <Tekst>\\'\\'De handel voor de gewone consument zal zich vooral naar vrienden en familie verplaatsen. Daarnaast gaan de zogeheten 06-dealers een rol spelen.&quot; Deze dealers krijgen via hun mobiele telefoon een bestelling en leveren vervolgens de drugs op afspraak af.</Tekst> <Datering>15 december 2010</Datering> <URL>http://www.nu.nl/binnenland/2402959/wietpas-opent-markt-06-dealers.html</URL> </Voorbeeld> </voorbeeldBody> <Woordfamilie> <Afleidingen> <link> <lemma>06-dealertje</lemma> <dtype>art</dtype> <pid>892347</pid> </link> </Afleidingen> </Woordfamilie> <Etymologie> <AardHerkomst>inheems woord</AardHerkomst> <VroegsteDatering>2010</VroegsteDatering> <Benoemingsmotief>De <i>06-dealer</i> wordt zo genoemd omdat hij zijn afspraken regelt via de mobiele telefoon.</Benoemingsmotief> </Etymologie> </betekenisInfo> </Kernbetekenis> </BetekenisEnGebruik> <LemmaSamenvatting><Lang>06-dealer</Lang><Kort>06-dealer</Kort></LemmaSamenvatting></artikel>\\n'"
      ]
     },
     "execution_count": 28,
     "metadata": {},
     "output_type": "execute_result"
    }
   ],
   "source": [
    "filtered_df.iloc[0]['xml_file']"
   ]
  },
  {
   "cell_type": "code",
   "execution_count": 29,
   "metadata": {},
   "outputs": [],
   "source": [
    "filtered_df.to_csv('Data/dut_general_example_filtered_xml.csv', index = False)"
   ]
  }
 ],
 "metadata": {
  "kernelspec": {
   "display_name": "thesis-torch",
   "language": "python",
   "name": "python3"
  },
  "language_info": {
   "codemirror_mode": {
    "name": "ipython",
    "version": 3
   },
   "file_extension": ".py",
   "mimetype": "text/x-python",
   "name": "python",
   "nbconvert_exporter": "python",
   "pygments_lexer": "ipython3",
   "version": "3.12.1"
  }
 },
 "nbformat": 4,
 "nbformat_minor": 2
}
