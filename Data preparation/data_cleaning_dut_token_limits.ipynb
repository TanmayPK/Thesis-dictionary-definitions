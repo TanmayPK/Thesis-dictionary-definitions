{
 "cells": [
  {
   "cell_type": "code",
   "execution_count": 1,
   "metadata": {},
   "outputs": [],
   "source": [
    "import pandas as pd\n",
    "from bs4 import BeautifulSoup\n",
    "from tqdm import tqdm\n",
    "import ast \n",
    "from transformers import T5Tokenizer"
   ]
  },
  {
   "cell_type": "code",
   "execution_count": 2,
   "metadata": {},
   "outputs": [],
   "source": [
    "neo = pd.read_csv('./Data/dut_neo_xml.csv')"
   ]
  },
  {
   "cell_type": "code",
   "execution_count": 3,
   "metadata": {},
   "outputs": [],
   "source": [
    "general = pd.read_csv('./Data/dut_general_example_filtered_xml.csv')"
   ]
  },
  {
   "cell_type": "code",
   "execution_count": 11,
   "metadata": {},
   "outputs": [
    {
     "name": "stdout",
     "output_type": "stream",
     "text": [
      "                     word                                         parsed_xml\n",
      "0       aanbiddingszanger  <artikel id=\"151279\" last-modified=\"2023-10-04...\n",
      "1          aanblijfpremie  <artikel id=\"73079\" last-modified=\"2023-10-04\"...\n",
      "2          aanbodgedreven  <artikel id=\"73080\" last-modified=\"2023-10-04\"...\n",
      "3          aanbodgestuurd  <artikel id=\"73081\" last-modified=\"2023-10-04\"...\n",
      "4       aandachtseconomie  <artikel id=\"166967\" last-modified=\"2024-02-02...\n",
      "...                   ...                                                ...\n",
      "1963       zwijgschikking  <artikel id=\"155531\" last-modified=\"2023-10-04...\n",
      "1964         zwijnneusrat  <artikel id=\"155422\" last-modified=\"2023-10-04...\n",
      "1965  zwitsalmaatschappij  <artikel id=\"168726\" last-modified=\"2023-10-04...\n",
      "1966               zzp'en  <artikel id=\"155398\" last-modified=\"2023-11-01...\n",
      "1967                  ZZS  <artikel id=\"167073\" last-modified=\"2024-01-20...\n",
      "\n",
      "[1967 rows x 2 columns]\n"
     ]
    }
   ],
   "source": [
    "filtered_neo = neo[neo['parsed_xml'].str.contains('voorbeeld')]\n",
    "print(filtered_neo)"
   ]
  },
  {
   "cell_type": "code",
   "execution_count": 19,
   "metadata": {},
   "outputs": [],
   "source": [
    "tester = filtered_neo.iloc[0]['parsed_xml']"
   ]
  },
  {
   "cell_type": "code",
   "execution_count": 21,
   "metadata": {},
   "outputs": [
    {
     "data": {
      "text/html": [
       "<div>\n",
       "<style scoped>\n",
       "    .dataframe tbody tr th:only-of-type {\n",
       "        vertical-align: middle;\n",
       "    }\n",
       "\n",
       "    .dataframe tbody tr th {\n",
       "        vertical-align: top;\n",
       "    }\n",
       "\n",
       "    .dataframe thead th {\n",
       "        text-align: right;\n",
       "    }\n",
       "</style>\n",
       "<table border=\"1\" class=\"dataframe\">\n",
       "  <thead>\n",
       "    <tr style=\"text-align: right;\">\n",
       "      <th></th>\n",
       "      <th>word</th>\n",
       "      <th>parsed_xml</th>\n",
       "    </tr>\n",
       "  </thead>\n",
       "  <tbody>\n",
       "    <tr>\n",
       "      <th>0</th>\n",
       "      <td>aanbiddingszanger</td>\n",
       "      <td>&lt;artikel id=\"151279\" last-modified=\"2023-10-04...</td>\n",
       "    </tr>\n",
       "  </tbody>\n",
       "</table>\n",
       "</div>"
      ],
      "text/plain": [
       "                word                                         parsed_xml\n",
       "0  aanbiddingszanger  <artikel id=\"151279\" last-modified=\"2023-10-04..."
      ]
     },
     "execution_count": 21,
     "metadata": {},
     "output_type": "execute_result"
    }
   ],
   "source": [
    "filtered_neo.head(1)"
   ]
  },
  {
   "cell_type": "code",
   "execution_count": 22,
   "metadata": {},
   "outputs": [],
   "source": [
    "def extract_first_tekst(xml):\n",
    "    soup = BeautifulSoup(xml, 'xml')\n",
    "    voorbeeld_tags = soup.find_all(['voorbeeld', 'Voorbeeld'])\n",
    "    for tag in voorbeeld_tags:\n",
    "        tekst = tag.find('tekst')\n",
    "        if tekst:\n",
    "            return tekst.text.strip()\n",
    "    return None"
   ]
  },
  {
   "cell_type": "code",
   "execution_count": 20,
   "metadata": {},
   "outputs": [
    {
     "data": {
      "text/plain": [
       "\"Met stip binnen op nummer 1: een aanbiddingszanger. De Amerikaanse albumhitlijst wordt deze week aangevoerd door Chris Tomlin, een christelijke aanbiddingszanger [...]. Tomlins populariteit in kerken is geen geheim: een aantal nummers van zijn hand is in protestantse Amerikaanse kerken tot het standaardrepertoire gaan behoren. Ook de Nederlandse Opwekkingsbundel, het officieuze en populaire liedboek van de evangelische beweging, adopteerde een deel van zijn oeuvre. Dat dergelijke 'specialistische' popmuziek de hitlijsten kan aanvoeren lijkt ook veel te zeggen over de totale muziekverkoop.\""
      ]
     },
     "execution_count": 20,
     "metadata": {},
     "output_type": "execute_result"
    }
   ],
   "source": [
    "extract_first_tekst(tester)"
   ]
  },
  {
   "cell_type": "code",
   "execution_count": 24,
   "metadata": {},
   "outputs": [
    {
     "data": {
      "text/html": [
       "<div>\n",
       "<style scoped>\n",
       "    .dataframe tbody tr th:only-of-type {\n",
       "        vertical-align: middle;\n",
       "    }\n",
       "\n",
       "    .dataframe tbody tr th {\n",
       "        vertical-align: top;\n",
       "    }\n",
       "\n",
       "    .dataframe thead th {\n",
       "        text-align: right;\n",
       "    }\n",
       "</style>\n",
       "<table border=\"1\" class=\"dataframe\">\n",
       "  <thead>\n",
       "    <tr style=\"text-align: right;\">\n",
       "      <th></th>\n",
       "      <th>word</th>\n",
       "      <th>xml_file</th>\n",
       "    </tr>\n",
       "  </thead>\n",
       "  <tbody>\n",
       "    <tr>\n",
       "      <th>0</th>\n",
       "      <td>06-dealer</td>\n",
       "      <td>b'&lt;artikel last-modified=\"2024-02-23\" ID=\"7121...</td>\n",
       "    </tr>\n",
       "  </tbody>\n",
       "</table>\n",
       "</div>"
      ],
      "text/plain": [
       "        word                                           xml_file\n",
       "0  06-dealer  b'<artikel last-modified=\"2024-02-23\" ID=\"7121..."
      ]
     },
     "execution_count": 24,
     "metadata": {},
     "output_type": "execute_result"
    }
   ],
   "source": [
    "general.head(1)"
   ]
  },
  {
   "cell_type": "code",
   "execution_count": 26,
   "metadata": {},
   "outputs": [
    {
     "name": "stderr",
     "output_type": "stream",
     "text": [
      "Processing: 100%|██████████| 28781/28781 [02:58<00:00, 161.17it/s]\n"
     ]
    }
   ],
   "source": [
    "def extract_xml(xml_content):\n",
    "    soup = BeautifulSoup(xml_content, 'html.parser') \n",
    "    return soup.prettify()\n",
    "\n",
    "progress_bar = tqdm(total=len(general), desc='Processing')\n",
    "general['parsed_xml'] = general['xml_file'].apply(lambda x: (progress_bar.update(), extract_xml(x)))\n",
    "progress_bar.close()"
   ]
  },
  {
   "cell_type": "code",
   "execution_count": 27,
   "metadata": {},
   "outputs": [
    {
     "data": {
      "text/html": [
       "<div>\n",
       "<style scoped>\n",
       "    .dataframe tbody tr th:only-of-type {\n",
       "        vertical-align: middle;\n",
       "    }\n",
       "\n",
       "    .dataframe tbody tr th {\n",
       "        vertical-align: top;\n",
       "    }\n",
       "\n",
       "    .dataframe thead th {\n",
       "        text-align: right;\n",
       "    }\n",
       "</style>\n",
       "<table border=\"1\" class=\"dataframe\">\n",
       "  <thead>\n",
       "    <tr style=\"text-align: right;\">\n",
       "      <th></th>\n",
       "      <th>word</th>\n",
       "      <th>xml_file</th>\n",
       "      <th>parsed_xml</th>\n",
       "    </tr>\n",
       "  </thead>\n",
       "  <tbody>\n",
       "    <tr>\n",
       "      <th>0</th>\n",
       "      <td>06-dealer</td>\n",
       "      <td>b'&lt;artikel last-modified=\"2024-02-23\" ID=\"7121...</td>\n",
       "      <td>(None, b'\\n&lt;artikel id=\"71214\" last-modified=\"...</td>\n",
       "    </tr>\n",
       "    <tr>\n",
       "      <th>1</th>\n",
       "      <td>06-nummer</td>\n",
       "      <td>b'&lt;artikel last-modified=\"2024-03-01\" ID=\"6896...</td>\n",
       "      <td>(None, b'\\n&lt;artikel id=\"68963\" last-modified=\"...</td>\n",
       "    </tr>\n",
       "    <tr>\n",
       "      <th>2</th>\n",
       "      <td>06-prostitutie</td>\n",
       "      <td>b'&lt;artikel last-modified=\"2023-10-04\" ID=\"8749...</td>\n",
       "      <td>(None, b'\\n&lt;artikel id=\"87492\" last-modified=\"...</td>\n",
       "    </tr>\n",
       "    <tr>\n",
       "      <th>3</th>\n",
       "      <td>1,5 metereconomie</td>\n",
       "      <td>b'&lt;artikel last-modified=\"2024-03-01\" ID=\"1599...</td>\n",
       "      <td>(None, b'\\n&lt;artikel id=\"159918\" last-modified=...</td>\n",
       "    </tr>\n",
       "    <tr>\n",
       "      <th>4</th>\n",
       "      <td>1,5 metermaatschappij</td>\n",
       "      <td>b'&lt;artikel last-modified=\"2024-03-01\" ID=\"1616...</td>\n",
       "      <td>(None, b'\\n&lt;artikel id=\"161656\" last-modified=...</td>\n",
       "    </tr>\n",
       "  </tbody>\n",
       "</table>\n",
       "</div>"
      ],
      "text/plain": [
       "                    word                                           xml_file  \\\n",
       "0              06-dealer  b'<artikel last-modified=\"2024-02-23\" ID=\"7121...   \n",
       "1              06-nummer  b'<artikel last-modified=\"2024-03-01\" ID=\"6896...   \n",
       "2         06-prostitutie  b'<artikel last-modified=\"2023-10-04\" ID=\"8749...   \n",
       "3      1,5 metereconomie  b'<artikel last-modified=\"2024-03-01\" ID=\"1599...   \n",
       "4  1,5 metermaatschappij  b'<artikel last-modified=\"2024-03-01\" ID=\"1616...   \n",
       "\n",
       "                                          parsed_xml  \n",
       "0  (None, b'\\n<artikel id=\"71214\" last-modified=\"...  \n",
       "1  (None, b'\\n<artikel id=\"68963\" last-modified=\"...  \n",
       "2  (None, b'\\n<artikel id=\"87492\" last-modified=\"...  \n",
       "3  (None, b'\\n<artikel id=\"159918\" last-modified=...  \n",
       "4  (None, b'\\n<artikel id=\"161656\" last-modified=...  "
      ]
     },
     "execution_count": 27,
     "metadata": {},
     "output_type": "execute_result"
    }
   ],
   "source": [
    "general.head()"
   ]
  },
  {
   "cell_type": "code",
   "execution_count": 31,
   "metadata": {},
   "outputs": [
    {
     "data": {
      "text/plain": [
       "'b\\'\\n<artikel id=\"71214\" last-modified=\"2024-02-23\" pid=\"190832\">\\n <lemma>\\n  <lemmavorm>\\n   06-dealer\\n  </lemmavorm>\\n  <lemmatype>\\n   woord\\n  </lemmatype>\\n </lemma>\\n <betekenisengebruik>\\n  <kernbetekenis id=\"bet1.0\" pid=\"190834\">\\n   <betekenisinfo>\\n    <betekenisnummer>\\n     1.0\\n    </betekenisnummer>\\n    <lemma>\\n     <lemmavorm>\\n      06-dealer\\n     </lemmavorm>\\n     <lemmatype>\\n      woord\\n     </lemmatype>\\n    </lemma>\\n    <spellingdbid>\\n     170109\\n    </spellingdbid>\\n    <woordsoort>\\n     <type>\\n      substantief\\n     </type>\\n     <substantief>\\n      <naamtype>\\n       soortnaam\\n      </naamtype>\\n      <geslachtbody id=\"el6\">\\n       <geslacht>\\n        mannelijk\\n       </geslacht>\\n      </geslachtbody>\\n      <lidwoord id=\"el7\">\\n       <aardlidwoord>\\n        de\\n       </aardlidwoord>\\n      </lidwoord>\\n      <betekenisklasse>\\n       persoonsnaam\\n      </betekenisklasse>\\n     </substantief>\\n    </woordsoort>\\n    <spellingenflexie>\\n     <substantiefvormen>\\n      <enkelvoud lexiconid=\"504881\">\\n       <woordvorm>\\n        06-dealer\\n       </woordvorm>\\n       <afbreking>\\n        06-.dea.ler\\n       </afbreking>\\n      </enkelvoud>\\n      <meervoud lexiconid=\"470570\">\\n       <woordvorm>\\n        06-dealers\\n       </woordvorm>\\n       <afbreking>\\n        06-.dea.lers\\n       </afbreking>\\n      </meervoud>\\n      <verkleiningsvorm lexiconid=\"782607\">\\n       <woordvorm>\\n        06-dealertje\\n       </woordvorm>\\n       <afbreking>\\n        06-.dea.ler.tje\\n       </afbreking>\\n      </verkleiningsvorm>\\n     </substantiefvormen>\\n    </spellingenflexie>\\n    <uitspraak>\\n     <aantallettergrepenbody id=\"el8\">\\n      <aantallettergrepen>\\n       4\\n      </aantallettergrepen>\\n     </aantallettergrepenbody>\\n     <hoofdklemtoonbody id=\"el9\">\\n      <plaats_hoofdklemtoon>\\n       2de lettergreep\\n      </plaats_hoofdklemtoon>\\n     </hoofdklemtoonbody>\\n     <fonetischeschrijfwijze>\\n      \\\\\\'n \\\\xca\\\\x8f l . *z \\\\xc9\\\\x9b s . \\\\\\'d i . l \\\\xc9\\\\x99 r\\n     </fonetischeschrijfwijze>\\n    </uitspraak>\\n    <woordvorming>\\n     <woordvormingtype>\\n      samenstelling\\n     </woordvormingtype>\\n     <samenstelling>\\n      <linkerlid>\\n       06\\n      </linkerlid>\\n      <linkerlidtype>\\n       getal\\n      </linkerlidtype>\\n      <rechterlid>\\n       dealer\\n      </rechterlid>\\n      <rechterlidtype>\\n       substantief\\n      </rechterlidtype>\\n      <verbindingsklank>\\n       geen\\n      </verbindingsklank>\\n     </samenstelling>\\n    </woordvorming>\\n    <bijzonderhedengebruik>\\n     <taalvarieteit>\\n      (vooral) in Nederland\\n     </taalvarieteit>\\n     <domein idid=\"7\">\\n      media, communicatie en telecommunicatie\\n     </domein>\\n     <domein idid=\"12\">\\n      eten, drinken en genotmiddelen\\n     </domein>\\n     <tijd>\\n      neologisme\\n     </tijd>\\n    </bijzonderhedengebruik>\\n    <definitiebody id=\"el10\">\\n     <definitie>\\n      drugsdealer die via zijn mobiele telefoon een bestelling voor drugs doorkrijgt en deze vervolgens op afspraak aflevert\\n     </definitie>\\n     <minidefinitie>\\n      drugsdealer die via zijn mobiel werkt\\n     </minidefinitie>\\n    </definitiebody>\\n    <woordrelaties>\\n     <hyperoniem>\\n      <link exists=\"true\"/>\\n      <lemma>\\n       dealer\\n      </lemma>\\n      <dtype>\\n       art\\n      </dtype>\\n      <pid>\\n       36043\\n      </pid>\\n     </hyperoniem>\\n    </woordrelaties>\\n    <semagram>\\n     <semagramaanhef>\\n      Een 06-dealer\\n     </semagramaanhef>\\n     <categorieen>\\n      <bovencategorie>\\n       is een persoon\\n       <invis>\\n        iemand; mens\\n       </invis>\\n      </bovencategorie>\\n      <categorie>\\n       is een dealer\\n       <invis>\\n        drugsdealer\\n       </invis>\\n      </categorie>\\n      <kenmerkklasse>\\n       nomen agentis\\n      </kenmerkklasse>\\n     </categorieen>\\n     <kenmerken>\\n      <handeling_of_werking>\\n       <activiteit_of_handeling>\\n        krijgt via izijn mobiele telefoon een bestelling voor drugs door en levert deze vervolgens op afspraak af\\n       </activiteit_of_handeling>\\n      </handeling_of_werking>\\n     </kenmerken>\\n    </semagram>\\n    <voorbeeldbody>\\n     <voorbeeld id=\"ex1\" pid=\"193104\">\\n      <tekst>\\n       Amsterdamse clubbezoekers betaalden in 2008 in het uitgaansleven minder voor een ecstasypil dan in 2003 (gemiddeld respectievelijk \\\\xe2\\\\x82\\\\xac5,5 en \\\\xe2\\\\x82\\\\xac3,6). In 2008 was de gemiddelde prijs van een ecstasypil bij een 06-dealer en een dealer thuis minder hoog dan in het uitgaansleven (respectievelijk \\\\xe2\\\\x82\\\\xac3,3 en \\\\xe2\\\\x82\\\\xac2,7).\\n      </tekst>\\n      <datering>\\n       30 mei 2010\\n      </datering>\\n      <url>\\n       http://www.trimbos.nl/onderwerpen/alcohol-en-drugs/xtc/xtc-algemeen/prijsindicatie\\n      </url>\\n     </voorbeeld>\\n     <voorbeeld id=\"ex2\" pid=\"191257\">\\n      <tekst>\\n       \\\\\\'\\\\\\'De handel voor de gewone consument zal zich vooral naar vrienden en familie verplaatsen. Daarnaast gaan de zogeheten 06-dealers een rol spelen.\" Deze dealers krijgen via hun mobiele telefoon een bestelling en leveren vervolgens de drugs op afspraak af.\\n      </tekst>\\n      <datering>\\n       15 december 2010\\n      </datering>\\n      <url>\\n       http://www.nu.nl/binnenland/2402959/wietpas-opent-markt-06-dealers.html\\n      </url>\\n     </voorbeeld>\\n    </voorbeeldbody>\\n    <woordfamilie>\\n     <afleidingen>\\n      <link/>\\n      <lemma>\\n       06-dealertje\\n      </lemma>\\n      <dtype>\\n       art\\n      </dtype>\\n      <pid>\\n       892347\\n      </pid>\\n     </afleidingen>\\n    </woordfamilie>\\n    <etymologie>\\n     <aardherkomst>\\n      inheems woord\\n     </aardherkomst>\\n     <vroegstedatering>\\n      2010\\n     </vroegstedatering>\\n     <benoemingsmotief>\\n      De\\n      <i>\\n       06-dealer\\n      </i>\\n      wordt zo genoemd omdat hij zijn afspraken regelt via de mobiele telefoon.\\n     </benoemingsmotief>\\n    </etymologie>\\n   </betekenisinfo>\\n  </kernbetekenis>\\n </betekenisengebruik>\\n <lemmasamenvatting>\\n  <lang>\\n   06-dealer\\n  </lang>\\n  <kort>\\n   06-dealer\\n  </kort>\\n </lemmasamenvatting>\\n</artikel>\\n\\\\n\\'\\n'"
      ]
     },
     "execution_count": 31,
     "metadata": {},
     "output_type": "execute_result"
    }
   ],
   "source": [
    "general.iloc[0]['parsed_xml'][1]"
   ]
  },
  {
   "cell_type": "code",
   "execution_count": 43,
   "metadata": {},
   "outputs": [
    {
     "data": {
      "text/plain": [
       "'<artikel id=\"151279\" last-modified=\"2023-10-04\" pid=\"493255\">\\n <lemma>\\n  <lemmavorm>\\n   aanbiddingszanger\\n  </lemmavorm>\\n  <lemmatype>\\n   woord\\n  </lemmatype>\\n </lemma>\\n <betekenisengebruik>\\n  <kernbetekenis id=\"bet1.0\" neo=\"true\" pid=\"493257\">\\n   <betekenisinfo>\\n    <betekenisnummer>\\n     1.0\\n    </betekenisnummer>\\n    <lemma>\\n     <lemmavorm>\\n      aanbiddingszanger\\n     </lemmavorm>\\n     <lemmatype>\\n      woord\\n     </lemmatype>\\n    </lemma>\\n    <spellingdbid>\\n     170196\\n    </spellingdbid>\\n    <woordsoort>\\n     <type>\\n      substantief\\n     </type>\\n     <substantief>\\n      <naamtype>\\n       soortnaam\\n      </naamtype>\\n      <geslachtbody id=\"el6\">\\n       <geslacht>\\n        mannelijk\\n       </geslacht>\\n      </geslachtbody>\\n      <lidwoord id=\"el7\">\\n       <aardlidwoord>\\n        de\\n       </aardlidwoord>\\n      </lidwoord>\\n      <betekenisklasse>\\n       persoonsnaam\\n      </betekenisklasse>\\n     </substantief>\\n    </woordsoort>\\n    <spellingenflexie>\\n     <substantiefvormen>\\n      <enkelvoud lexiconid=\"502408\">\\n       <woordvorm>\\n        aanbiddingszanger\\n       </woordvorm>\\n       <afbreking>\\n        aan.bid.dings.zan.ger\\n       </afbreking>\\n      </enkelvoud>\\n      <meervoud lexiconid=\"486263\">\\n       <woordvorm>\\n        aanbiddingszangers\\n       </woordvorm>\\n       <afbreking>\\n        aan.bid.dings.zan.gers\\n       </afbreking>\\n      </meervoud>\\n     </substantiefvormen>\\n    </spellingenflexie>\\n    <uitspraak>\\n     <aantallettergrepenbody id=\"el8\">\\n      <aantallettergrepen>\\n       5\\n      </aantallettergrepen>\\n     </aantallettergrepenbody>\\n     <hoofdklemtoonbody id=\"el9\">\\n      <plaats_hoofdklemtoon>\\n       2de lettergreep\\n      </plaats_hoofdklemtoon>\\n     </hoofdklemtoonbody>\\n    </uitspraak>\\n    <woordvorming>\\n     <woordvormingtype>\\n      samenstelling\\n     </woordvormingtype>\\n     <samenstelling>\\n      <linkerlid>\\n       aanbidding\\n      </linkerlid>\\n      <linkerlidtype>\\n       substantief\\n      </linkerlidtype>\\n      <rechterlid>\\n       zanger\\n      </rechterlid>\\n      <rechterlidtype>\\n       substantief\\n      </rechterlidtype>\\n      <verbindingsklank>\\n       s\\n      </verbindingsklank>\\n     </samenstelling>\\n    </woordvorming>\\n    <bijzonderhedengebruik>\\n     <domein idid=\"14\">\\n      filosofie\\n     </domein>\\n     <domein idid=\"30\">\\n      muziek\\n     </domein>\\n     <domein idid=\"39\">\\n      religie, mystiek en mythologie\\n     </domein>\\n     <tijd>\\n      neologisme\\n     </tijd>\\n    </bijzonderhedengebruik>\\n    <definitiebody id=\"el10\">\\n     <definitie>\\n      zanger die religieuze, meestal christelijke, liederen zingt\\n     </definitie>\\n     <minidefinitie>\\n      zanger van religieuze liederen\\n     </minidefinitie>\\n    </definitiebody>\\n    <semagram>\\n     <semagramaanhef>\\n      Een aanbiddingszanger\\n     </semagramaanhef>\\n     <categorieen>\\n      <bovencategorie>\\n       is een persoon\\n       <invis>\\n        iemand; mens\\n       </invis>\\n      </bovencategorie>\\n      <categorie>\\n       is een zanger\\n      </categorie>\\n     </categorieen>\\n     <semagramlink>\\n      <link/>\\n      <lemma>\\n       zanger\\n      </lemma>\\n      <dtype>\\n       bet\\n      </dtype>\\n      <desc>\\n       2.0 - iemand die zingt als beroep\\n      </desc>\\n      <pid>\\n       185018\\n      </pid>\\n     </semagramlink>\\n     <kenmerken>\\n      <handeling_of_werking>\\n       <activiteit_of_handeling>\\n        zingt religieuze, meestal christelijke, liederen\\n       </activiteit_of_handeling>\\n      </handeling_of_werking>\\n     </kenmerken>\\n    </semagram>\\n    <voorbeeldbody>\\n     <voorbeeld id=\"ex1\" pid=\"493258\">\\n      <tekst>\\n       Met stip binnen op nummer 1: een aanbiddingszanger. De Amerikaanse albumhitlijst wordt deze week aangevoerd door Chris Tomlin, een christelijke aanbiddingszanger [...]. Tomlins populariteit in kerken is geen geheim: een aantal nummers van zijn hand is in protestantse Amerikaanse kerken tot het standaardrepertoire gaan behoren. Ook de Nederlandse Opwekkingsbundel, het officieuze en populaire liedboek van de evangelische beweging, adopteerde een deel van zijn oeuvre. Dat dergelijke \\'specialistische\\' popmuziek de hitlijsten kan aanvoeren lijkt ook veel te zeggen over de totale muziekverkoop.\\n      </tekst>\\n      <bron>\\n       Trouw\\n      </bron>\\n      <datering>\\n       18 januari 2013\\n      </datering>\\n     </voorbeeld>\\n     <voorbeeld id=\"ex2\" pid=\"586159\">\\n      <tekst>\\n       Is het koningslied nu \\'gekopieerd\\' van een aanbiddingszanger of van Zeeuwse dialectrock?\\n      </tekst>\\n      <datering>\\n       15 maart 2013\\n      </datering>\\n      <url>\\n       http://www.nieuwsbreak.nl/nieuws/4022737\\n      </url>\\n     </voorbeeld>\\n     <voorbeeld id=\"ex3\" pid=\"586157\">\\n      <tekst>\\n       Zelfs als je door een leider wordt gevraagd: neem geen impulsieve beslissing! Zoek God eerst. Het kan zijn dat je geroepen bent als aanbiddingszanger of -muzikant, maar dat je voor loopt op Gods timing.\\n      </tekst>\\n      <datering>\\n       2002\\n      </datering>\\n      <url>\\n       http://www.hiscfd.com/download/pdf/DusJijWiltInDeBand_DonPotter.pdf\\n      </url>\\n     </voorbeeld>\\n    </voorbeeldbody>\\n    <etymologie>\\n     <aardherkomst>\\n      inheems woord\\n     </aardherkomst>\\n     <vroegstedatering>\\n      2002\\n     </vroegstedatering>\\n     <neologisme>\\n      <intro>\\n       Een aanbiddingszanger is een zanger, maar wel een speciaal soort zanger: het is iemand die alleen religieuze, meestal christelijke, liederen zingt. Het woord wordt gebruikt sinds ongeveer 2002.\\n      </intro>\\n     </neologisme>\\n    </etymologie>\\n   </betekenisinfo>\\n  </kernbetekenis>\\n </betekenisengebruik>\\n <lemmasamenvatting>\\n  <lang>\\n   aanbiddingszanger\\n  </lang>\\n  <kort>\\n   aanbiddingszanger\\n  </kort>\\n </lemmasamenvatting>\\n</artikel>\\n'"
      ]
     },
     "execution_count": 43,
     "metadata": {},
     "output_type": "execute_result"
    }
   ],
   "source": [
    "filtered_neo.iloc[0]['parsed_xml']"
   ]
  },
  {
   "cell_type": "code",
   "execution_count": 44,
   "metadata": {},
   "outputs": [
    {
     "data": {
      "text/plain": [
       "'\\n<artikel id=\"71214\" last-modified=\"2024-02-23\" pid=\"190832\">\\n <lemma>\\n  <lemmavorm>\\n   06-dealer\\n  </lemmavorm>\\n  <lemmatype>\\n   woord\\n  </lemmatype>\\n </lemma>\\n <betekenisengebruik>\\n  <kernbetekenis id=\"bet1.0\" pid=\"190834\">\\n   <betekenisinfo>\\n    <betekenisnummer>\\n     1.0\\n    </betekenisnummer>\\n    <lemma>\\n     <lemmavorm>\\n      06-dealer\\n     </lemmavorm>\\n     <lemmatype>\\n      woord\\n     </lemmatype>\\n    </lemma>\\n    <spellingdbid>\\n     170109\\n    </spellingdbid>\\n    <woordsoort>\\n     <type>\\n      substantief\\n     </type>\\n     <substantief>\\n      <naamtype>\\n       soortnaam\\n      </naamtype>\\n      <geslachtbody id=\"el6\">\\n       <geslacht>\\n        mannelijk\\n       </geslacht>\\n      </geslachtbody>\\n      <lidwoord id=\"el7\">\\n       <aardlidwoord>\\n        de\\n       </aardlidwoord>\\n      </lidwoord>\\n      <betekenisklasse>\\n       persoonsnaam\\n      </betekenisklasse>\\n     </substantief>\\n    </woordsoort>\\n    <spellingenflexie>\\n     <substantiefvormen>\\n      <enkelvoud lexiconid=\"504881\">\\n       <woordvorm>\\n        06-dealer\\n       </woordvorm>\\n       <afbreking>\\n        06-.dea.ler\\n       </afbreking>\\n      </enkelvoud>\\n      <meervoud lexiconid=\"470570\">\\n       <woordvorm>\\n        06-dealers\\n       </woordvorm>\\n       <afbreking>\\n        06-.dea.lers\\n       </afbreking>\\n      </meervoud>\\n      <verkleiningsvorm lexiconid=\"782607\">\\n       <woordvorm>\\n        06-dealertje\\n       </woordvorm>\\n       <afbreking>\\n        06-.dea.ler.tje\\n       </afbreking>\\n      </verkleiningsvorm>\\n     </substantiefvormen>\\n    </spellingenflexie>\\n    <uitspraak>\\n     <aantallettergrepenbody id=\"el8\">\\n      <aantallettergrepen>\\n       4\\n      </aantallettergrepen>\\n     </aantallettergrepenbody>\\n     <hoofdklemtoonbody id=\"el9\">\\n      <plaats_hoofdklemtoon>\\n       2de lettergreep\\n      </plaats_hoofdklemtoon>\\n     </hoofdklemtoonbody>\\n     <fonetischeschrijfwijze>\\n      \\'n \\\\xca\\\\x8f l . *z \\\\xc9\\\\x9b s . \\'d i . l \\\\xc9\\\\x99 r\\n     </fonetischeschrijfwijze>\\n    </uitspraak>\\n    <woordvorming>\\n     <woordvormingtype>\\n      samenstelling\\n     </woordvormingtype>\\n     <samenstelling>\\n      <linkerlid>\\n       06\\n      </linkerlid>\\n      <linkerlidtype>\\n       getal\\n      </linkerlidtype>\\n      <rechterlid>\\n       dealer\\n      </rechterlid>\\n      <rechterlidtype>\\n       substantief\\n      </rechterlidtype>\\n      <verbindingsklank>\\n       geen\\n      </verbindingsklank>\\n     </samenstelling>\\n    </woordvorming>\\n    <bijzonderhedengebruik>\\n     <taalvarieteit>\\n      (vooral) in Nederland\\n     </taalvarieteit>\\n     <domein idid=\"7\">\\n      media, communicatie en telecommunicatie\\n     </domein>\\n     <domein idid=\"12\">\\n      eten, drinken en genotmiddelen\\n     </domein>\\n     <tijd>\\n      neologisme\\n     </tijd>\\n    </bijzonderhedengebruik>\\n    <definitiebody id=\"el10\">\\n     <definitie>\\n      drugsdealer die via zijn mobiele telefoon een bestelling voor drugs doorkrijgt en deze vervolgens op afspraak aflevert\\n     </definitie>\\n     <minidefinitie>\\n      drugsdealer die via zijn mobiel werkt\\n     </minidefinitie>\\n    </definitiebody>\\n    <woordrelaties>\\n     <hyperoniem>\\n      <link exists=\"true\"/>\\n      <lemma>\\n       dealer\\n      </lemma>\\n      <dtype>\\n       art\\n      </dtype>\\n      <pid>\\n       36043\\n      </pid>\\n     </hyperoniem>\\n    </woordrelaties>\\n    <semagram>\\n     <semagramaanhef>\\n      Een 06-dealer\\n     </semagramaanhef>\\n     <categorieen>\\n      <bovencategorie>\\n       is een persoon\\n       <invis>\\n        iemand; mens\\n       </invis>\\n      </bovencategorie>\\n      <categorie>\\n       is een dealer\\n       <invis>\\n        drugsdealer\\n       </invis>\\n      </categorie>\\n      <kenmerkklasse>\\n       nomen agentis\\n      </kenmerkklasse>\\n     </categorieen>\\n     <kenmerken>\\n      <handeling_of_werking>\\n       <activiteit_of_handeling>\\n        krijgt via izijn mobiele telefoon een bestelling voor drugs door en levert deze vervolgens op afspraak af\\n       </activiteit_of_handeling>\\n      </handeling_of_werking>\\n     </kenmerken>\\n    </semagram>\\n    <voorbeeldbody>\\n     <voorbeeld id=\"ex1\" pid=\"193104\">\\n      <tekst>\\n       Amsterdamse clubbezoekers betaalden in 2008 in het uitgaansleven minder voor een ecstasypil dan in 2003 (gemiddeld respectievelijk \\\\xe2\\\\x82\\\\xac5,5 en \\\\xe2\\\\x82\\\\xac3,6). In 2008 was de gemiddelde prijs van een ecstasypil bij een 06-dealer en een dealer thuis minder hoog dan in het uitgaansleven (respectievelijk \\\\xe2\\\\x82\\\\xac3,3 en \\\\xe2\\\\x82\\\\xac2,7).\\n      </tekst>\\n      <datering>\\n       30 mei 2010\\n      </datering>\\n      <url>\\n       http://www.trimbos.nl/onderwerpen/alcohol-en-drugs/xtc/xtc-algemeen/prijsindicatie\\n      </url>\\n     </voorbeeld>\\n     <voorbeeld id=\"ex2\" pid=\"191257\">\\n      <tekst>\\n       \\'\\'De handel voor de gewone consument zal zich vooral naar vrienden en familie verplaatsen. Daarnaast gaan de zogeheten 06-dealers een rol spelen.\" Deze dealers krijgen via hun mobiele telefoon een bestelling en leveren vervolgens de drugs op afspraak af.\\n      </tekst>\\n      <datering>\\n       15 december 2010\\n      </datering>\\n      <url>\\n       http://www.nu.nl/binnenland/2402959/wietpas-opent-markt-06-dealers.html\\n      </url>\\n     </voorbeeld>\\n    </voorbeeldbody>\\n    <woordfamilie>\\n     <afleidingen>\\n      <link/>\\n      <lemma>\\n       06-dealertje\\n      </lemma>\\n      <dtype>\\n       art\\n      </dtype>\\n      <pid>\\n       892347\\n      </pid>\\n     </afleidingen>\\n    </woordfamilie>\\n    <etymologie>\\n     <aardherkomst>\\n      inheems woord\\n     </aardherkomst>\\n     <vroegstedatering>\\n      2010\\n     </vroegstedatering>\\n     <benoemingsmotief>\\n      De\\n      <i>\\n       06-dealer\\n      </i>\\n      wordt zo genoemd omdat hij zijn afspraken regelt via de mobiele telefoon.\\n     </benoemingsmotief>\\n    </etymologie>\\n   </betekenisinfo>\\n  </kernbetekenis>\\n </betekenisengebruik>\\n <lemmasamenvatting>\\n  <lang>\\n   06-dealer\\n  </lang>\\n  <kort>\\n   06-dealer\\n  </kort>\\n </lemmasamenvatting>\\n</artikel>\\n'"
      ]
     },
     "execution_count": 44,
     "metadata": {},
     "output_type": "execute_result"
    }
   ],
   "source": [
    "general.iloc[0]['parsed_xml'][1].strip()[2:-3].replace(\"\\\\n\", \"\\n\").replace(\"\\\\'\", \"'\")"
   ]
  },
  {
   "cell_type": "code",
   "execution_count": 45,
   "metadata": {},
   "outputs": [
    {
     "data": {
      "text/plain": [
       "'Amsterdamse clubbezoekers betaalden in 2008 in het uitgaansleven minder voor een ecstasypil dan in 2003 (gemiddeld respectievelijk \\\\xe2\\\\x82\\\\xac5,5 en \\\\xe2\\\\x82\\\\xac3,6). In 2008 was de gemiddelde prijs van een ecstasypil bij een 06-dealer en een dealer thuis minder hoog dan in het uitgaansleven (respectievelijk \\\\xe2\\\\x82\\\\xac3,3 en \\\\xe2\\\\x82\\\\xac2,7).'"
      ]
     },
     "execution_count": 45,
     "metadata": {},
     "output_type": "execute_result"
    }
   ],
   "source": [
    "extract_first_tekst(general.iloc[0]['parsed_xml'][1].strip()[2:-3].replace(\"\\\\n\", \"\\n\").replace(\"\\\\'\", \"'\"))"
   ]
  },
  {
   "cell_type": "code",
   "execution_count": 46,
   "metadata": {},
   "outputs": [],
   "source": [
    "general['parsed_xml'] = general['parsed_xml'].apply(lambda x: x[1].strip()[2:-3].replace(\"\\\\n\", \"\\n\").replace(\"\\\\'\", \"'\"))"
   ]
  },
  {
   "cell_type": "code",
   "execution_count": 47,
   "metadata": {},
   "outputs": [
    {
     "data": {
      "text/html": [
       "<div>\n",
       "<style scoped>\n",
       "    .dataframe tbody tr th:only-of-type {\n",
       "        vertical-align: middle;\n",
       "    }\n",
       "\n",
       "    .dataframe tbody tr th {\n",
       "        vertical-align: top;\n",
       "    }\n",
       "\n",
       "    .dataframe thead th {\n",
       "        text-align: right;\n",
       "    }\n",
       "</style>\n",
       "<table border=\"1\" class=\"dataframe\">\n",
       "  <thead>\n",
       "    <tr style=\"text-align: right;\">\n",
       "      <th></th>\n",
       "      <th>word</th>\n",
       "      <th>xml_file</th>\n",
       "      <th>parsed_xml</th>\n",
       "    </tr>\n",
       "  </thead>\n",
       "  <tbody>\n",
       "    <tr>\n",
       "      <th>0</th>\n",
       "      <td>06-dealer</td>\n",
       "      <td>b'&lt;artikel last-modified=\"2024-02-23\" ID=\"7121...</td>\n",
       "      <td>\\n&lt;artikel id=\"71214\" last-modified=\"2024-02-2...</td>\n",
       "    </tr>\n",
       "    <tr>\n",
       "      <th>1</th>\n",
       "      <td>06-nummer</td>\n",
       "      <td>b'&lt;artikel last-modified=\"2024-03-01\" ID=\"6896...</td>\n",
       "      <td>\\n&lt;artikel id=\"68963\" last-modified=\"2024-03-0...</td>\n",
       "    </tr>\n",
       "    <tr>\n",
       "      <th>2</th>\n",
       "      <td>06-prostitutie</td>\n",
       "      <td>b'&lt;artikel last-modified=\"2023-10-04\" ID=\"8749...</td>\n",
       "      <td>\\n&lt;artikel id=\"87492\" last-modified=\"2023-10-0...</td>\n",
       "    </tr>\n",
       "    <tr>\n",
       "      <th>3</th>\n",
       "      <td>1,5 metereconomie</td>\n",
       "      <td>b'&lt;artikel last-modified=\"2024-03-01\" ID=\"1599...</td>\n",
       "      <td>\\n&lt;artikel id=\"159918\" last-modified=\"2024-03-...</td>\n",
       "    </tr>\n",
       "    <tr>\n",
       "      <th>4</th>\n",
       "      <td>1,5 metermaatschappij</td>\n",
       "      <td>b'&lt;artikel last-modified=\"2024-03-01\" ID=\"1616...</td>\n",
       "      <td>\\n&lt;artikel id=\"161656\" last-modified=\"2024-03-...</td>\n",
       "    </tr>\n",
       "  </tbody>\n",
       "</table>\n",
       "</div>"
      ],
      "text/plain": [
       "                    word                                           xml_file  \\\n",
       "0              06-dealer  b'<artikel last-modified=\"2024-02-23\" ID=\"7121...   \n",
       "1              06-nummer  b'<artikel last-modified=\"2024-03-01\" ID=\"6896...   \n",
       "2         06-prostitutie  b'<artikel last-modified=\"2023-10-04\" ID=\"8749...   \n",
       "3      1,5 metereconomie  b'<artikel last-modified=\"2024-03-01\" ID=\"1599...   \n",
       "4  1,5 metermaatschappij  b'<artikel last-modified=\"2024-03-01\" ID=\"1616...   \n",
       "\n",
       "                                          parsed_xml  \n",
       "0  \\n<artikel id=\"71214\" last-modified=\"2024-02-2...  \n",
       "1  \\n<artikel id=\"68963\" last-modified=\"2024-03-0...  \n",
       "2  \\n<artikel id=\"87492\" last-modified=\"2023-10-0...  \n",
       "3  \\n<artikel id=\"159918\" last-modified=\"2024-03-...  \n",
       "4  \\n<artikel id=\"161656\" last-modified=\"2024-03-...  "
      ]
     },
     "execution_count": 47,
     "metadata": {},
     "output_type": "execute_result"
    }
   ],
   "source": [
    "general.head()"
   ]
  },
  {
   "cell_type": "code",
   "execution_count": 48,
   "metadata": {},
   "outputs": [
    {
     "name": "stdout",
     "output_type": "stream",
     "text": [
      "                        word  \\\n",
      "0          aanbiddingszanger   \n",
      "1             aanblijfpremie   \n",
      "2             aanbodgedreven   \n",
      "3             aanbodgestuurd   \n",
      "4          aandachtseconomie   \n",
      "...                      ...   \n",
      "29159  zwoegen als een paard   \n",
      "29160                zwoeger   \n",
      "29161             Zwollenaar   \n",
      "29162                 Zwolse   \n",
      "29163                 zzp'er   \n",
      "\n",
      "                                              parsed_xml  \\\n",
      "0      <artikel id=\"151279\" last-modified=\"2023-10-04...   \n",
      "1      <artikel id=\"73079\" last-modified=\"2023-10-04\"...   \n",
      "2      <artikel id=\"73080\" last-modified=\"2023-10-04\"...   \n",
      "3      <artikel id=\"73081\" last-modified=\"2023-10-04\"...   \n",
      "4      <artikel id=\"166967\" last-modified=\"2024-02-02...   \n",
      "...                                                  ...   \n",
      "29159  \\n<artikel id=\"158917\" last-modified=\"2021-07-...   \n",
      "29160  \\n<artikel id=\"67730\" last-modified=\"2023-10-0...   \n",
      "29161  \\n<artikel id=\"68736\" last-modified=\"2023-10-0...   \n",
      "29162  \\n<artikel id=\"70752\" last-modified=\"2023-10-0...   \n",
      "29163  \\n<artikel id=\"69368\" last-modified=\"2023-11-0...   \n",
      "\n",
      "                                                xml_file  \n",
      "0                                                    NaN  \n",
      "1                                                    NaN  \n",
      "2                                                    NaN  \n",
      "3                                                    NaN  \n",
      "4                                                    NaN  \n",
      "...                                                  ...  \n",
      "29159  b'<artikel last-modified=\"2021-07-27\" ID=\"1589...  \n",
      "29160  b'<artikel last-modified=\"2023-10-04\" ID=\"6773...  \n",
      "29161  b'<artikel last-modified=\"2023-10-04\" ID=\"6873...  \n",
      "29162  b'<artikel last-modified=\"2023-10-04\" ID=\"7075...  \n",
      "29163  b'<artikel last-modified=\"2023-11-01\" ID=\"6936...  \n",
      "\n",
      "[29164 rows x 3 columns]\n"
     ]
    }
   ],
   "source": [
    "# Combine filtered_neo and general dataframes\n",
    "combined_df = pd.concat([filtered_neo, general[~general['word'].isin(filtered_neo['word'])]])\n",
    "combined_df.reset_index(drop=True, inplace=True)\n",
    "print(combined_df)\n"
   ]
  },
  {
   "cell_type": "code",
   "execution_count": 49,
   "metadata": {},
   "outputs": [
    {
     "data": {
      "text/html": [
       "<div>\n",
       "<style scoped>\n",
       "    .dataframe tbody tr th:only-of-type {\n",
       "        vertical-align: middle;\n",
       "    }\n",
       "\n",
       "    .dataframe tbody tr th {\n",
       "        vertical-align: top;\n",
       "    }\n",
       "\n",
       "    .dataframe thead th {\n",
       "        text-align: right;\n",
       "    }\n",
       "</style>\n",
       "<table border=\"1\" class=\"dataframe\">\n",
       "  <thead>\n",
       "    <tr style=\"text-align: right;\">\n",
       "      <th></th>\n",
       "      <th>word</th>\n",
       "      <th>parsed_xml</th>\n",
       "      <th>xml_file</th>\n",
       "    </tr>\n",
       "  </thead>\n",
       "  <tbody>\n",
       "    <tr>\n",
       "      <th>0</th>\n",
       "      <td>aanbiddingszanger</td>\n",
       "      <td>&lt;artikel id=\"151279\" last-modified=\"2023-10-04...</td>\n",
       "      <td>NaN</td>\n",
       "    </tr>\n",
       "    <tr>\n",
       "      <th>1</th>\n",
       "      <td>aanblijfpremie</td>\n",
       "      <td>&lt;artikel id=\"73079\" last-modified=\"2023-10-04\"...</td>\n",
       "      <td>NaN</td>\n",
       "    </tr>\n",
       "    <tr>\n",
       "      <th>2</th>\n",
       "      <td>aanbodgedreven</td>\n",
       "      <td>&lt;artikel id=\"73080\" last-modified=\"2023-10-04\"...</td>\n",
       "      <td>NaN</td>\n",
       "    </tr>\n",
       "    <tr>\n",
       "      <th>3</th>\n",
       "      <td>aanbodgestuurd</td>\n",
       "      <td>&lt;artikel id=\"73081\" last-modified=\"2023-10-04\"...</td>\n",
       "      <td>NaN</td>\n",
       "    </tr>\n",
       "    <tr>\n",
       "      <th>4</th>\n",
       "      <td>aandachtseconomie</td>\n",
       "      <td>&lt;artikel id=\"166967\" last-modified=\"2024-02-02...</td>\n",
       "      <td>NaN</td>\n",
       "    </tr>\n",
       "  </tbody>\n",
       "</table>\n",
       "</div>"
      ],
      "text/plain": [
       "                word                                         parsed_xml  \\\n",
       "0  aanbiddingszanger  <artikel id=\"151279\" last-modified=\"2023-10-04...   \n",
       "1     aanblijfpremie  <artikel id=\"73079\" last-modified=\"2023-10-04\"...   \n",
       "2     aanbodgedreven  <artikel id=\"73080\" last-modified=\"2023-10-04\"...   \n",
       "3     aanbodgestuurd  <artikel id=\"73081\" last-modified=\"2023-10-04\"...   \n",
       "4  aandachtseconomie  <artikel id=\"166967\" last-modified=\"2024-02-02...   \n",
       "\n",
       "  xml_file  \n",
       "0      NaN  \n",
       "1      NaN  \n",
       "2      NaN  \n",
       "3      NaN  \n",
       "4      NaN  "
      ]
     },
     "execution_count": 49,
     "metadata": {},
     "output_type": "execute_result"
    }
   ],
   "source": [
    "combined_df.head()"
   ]
  },
  {
   "cell_type": "code",
   "execution_count": 51,
   "metadata": {},
   "outputs": [],
   "source": [
    "combined_df.drop(columns=['xml_file'], inplace=True)"
   ]
  },
  {
   "cell_type": "code",
   "execution_count": 52,
   "metadata": {},
   "outputs": [
    {
     "data": {
      "text/html": [
       "<div>\n",
       "<style scoped>\n",
       "    .dataframe tbody tr th:only-of-type {\n",
       "        vertical-align: middle;\n",
       "    }\n",
       "\n",
       "    .dataframe tbody tr th {\n",
       "        vertical-align: top;\n",
       "    }\n",
       "\n",
       "    .dataframe thead th {\n",
       "        text-align: right;\n",
       "    }\n",
       "</style>\n",
       "<table border=\"1\" class=\"dataframe\">\n",
       "  <thead>\n",
       "    <tr style=\"text-align: right;\">\n",
       "      <th></th>\n",
       "      <th>word</th>\n",
       "      <th>parsed_xml</th>\n",
       "    </tr>\n",
       "  </thead>\n",
       "  <tbody>\n",
       "    <tr>\n",
       "      <th>0</th>\n",
       "      <td>aanbiddingszanger</td>\n",
       "      <td>&lt;artikel id=\"151279\" last-modified=\"2023-10-04...</td>\n",
       "    </tr>\n",
       "    <tr>\n",
       "      <th>1</th>\n",
       "      <td>aanblijfpremie</td>\n",
       "      <td>&lt;artikel id=\"73079\" last-modified=\"2023-10-04\"...</td>\n",
       "    </tr>\n",
       "    <tr>\n",
       "      <th>2</th>\n",
       "      <td>aanbodgedreven</td>\n",
       "      <td>&lt;artikel id=\"73080\" last-modified=\"2023-10-04\"...</td>\n",
       "    </tr>\n",
       "    <tr>\n",
       "      <th>3</th>\n",
       "      <td>aanbodgestuurd</td>\n",
       "      <td>&lt;artikel id=\"73081\" last-modified=\"2023-10-04\"...</td>\n",
       "    </tr>\n",
       "    <tr>\n",
       "      <th>4</th>\n",
       "      <td>aandachtseconomie</td>\n",
       "      <td>&lt;artikel id=\"166967\" last-modified=\"2024-02-02...</td>\n",
       "    </tr>\n",
       "  </tbody>\n",
       "</table>\n",
       "</div>"
      ],
      "text/plain": [
       "                word                                         parsed_xml\n",
       "0  aanbiddingszanger  <artikel id=\"151279\" last-modified=\"2023-10-04...\n",
       "1     aanblijfpremie  <artikel id=\"73079\" last-modified=\"2023-10-04\"...\n",
       "2     aanbodgedreven  <artikel id=\"73080\" last-modified=\"2023-10-04\"...\n",
       "3     aanbodgestuurd  <artikel id=\"73081\" last-modified=\"2023-10-04\"...\n",
       "4  aandachtseconomie  <artikel id=\"166967\" last-modified=\"2024-02-02..."
      ]
     },
     "execution_count": 52,
     "metadata": {},
     "output_type": "execute_result"
    }
   ],
   "source": [
    "combined_df.head()"
   ]
  },
  {
   "cell_type": "code",
   "execution_count": 53,
   "metadata": {},
   "outputs": [],
   "source": [
    "combined_df['context'] = combined_df['parsed_xml'].apply(extract_first_tekst)\n"
   ]
  },
  {
   "cell_type": "code",
   "execution_count": 54,
   "metadata": {},
   "outputs": [
    {
     "name": "stdout",
     "output_type": "stream",
     "text": [
      "Minimum length of context: 22\n",
      "Maximum length of context: 2638\n",
      "Average length of context: 253.22568920587025\n"
     ]
    }
   ],
   "source": [
    "context_lengths = combined_df['context'].str.len()\n",
    "min_length = context_lengths.min()\n",
    "max_length = context_lengths.max()\n",
    "avg_length = context_lengths.mean()\n",
    "\n",
    "print(\"Minimum length of context:\", min_length)\n",
    "print(\"Maximum length of context:\", max_length)\n",
    "print(\"Average length of context:\", avg_length)\n"
   ]
  },
  {
   "cell_type": "code",
   "execution_count": 56,
   "metadata": {},
   "outputs": [
    {
     "name": "stdout",
     "output_type": "stream",
     "text": [
      "0        aanbiddingszanger\n",
      "2           aanbodgedreven\n",
      "6          aandachtsminuut\n",
      "11           aanlandplicht\n",
      "18         aardappelgeweer\n",
      "               ...        \n",
      "28961         zwaarbewolkt\n",
      "29032        zwarte reiger\n",
      "29056       zwarthandelaar\n",
      "29142         zwijgcultuur\n",
      "29156      Zwitsers zakmes\n",
      "Name: word, Length: 1899, dtype: object\n"
     ]
    }
   ],
   "source": [
    "filtered_words = combined_df[combined_df['context'].str.len() > 500]['word']\n",
    "print(filtered_words)\n"
   ]
  },
  {
   "cell_type": "code",
   "execution_count": 57,
   "metadata": {},
   "outputs": [
    {
     "data": {
      "text/plain": [
       "\"Met stip binnen op nummer 1: een aanbiddingszanger. De Amerikaanse albumhitlijst wordt deze week aangevoerd door Chris Tomlin, een christelijke aanbiddingszanger [...]. Tomlins populariteit in kerken is geen geheim: een aantal nummers van zijn hand is in protestantse Amerikaanse kerken tot het standaardrepertoire gaan behoren. Ook de Nederlandse Opwekkingsbundel, het officieuze en populaire liedboek van de evangelische beweging, adopteerde een deel van zijn oeuvre. Dat dergelijke 'specialistische' popmuziek de hitlijsten kan aanvoeren lijkt ook veel te zeggen over de totale muziekverkoop.\""
      ]
     },
     "execution_count": 57,
     "metadata": {},
     "output_type": "execute_result"
    }
   ],
   "source": [
    "combined_df.iloc[0]['context']"
   ]
  },
  {
   "cell_type": "code",
   "execution_count": 59,
   "metadata": {},
   "outputs": [
    {
     "data": {
      "application/vnd.jupyter.widget-view+json": {
       "model_id": "fe3f2aa041024def86bd154a5bd00fb4",
       "version_major": 2,
       "version_minor": 0
      },
      "text/plain": [
       "tokenizer_config.json:   0%|          | 0.00/2.32k [00:00<?, ?B/s]"
      ]
     },
     "metadata": {},
     "output_type": "display_data"
    },
    {
     "data": {
      "application/vnd.jupyter.widget-view+json": {
       "model_id": "fbfddd0bf1114bf394b94b7d36d69b03",
       "version_major": 2,
       "version_minor": 0
      },
      "text/plain": [
       "spiece.model:   0%|          | 0.00/792k [00:00<?, ?B/s]"
      ]
     },
     "metadata": {},
     "output_type": "display_data"
    },
    {
     "data": {
      "application/vnd.jupyter.widget-view+json": {
       "model_id": "55489f17289840fabb3a4551e1e93372",
       "version_major": 2,
       "version_minor": 0
      },
      "text/plain": [
       "tokenizer.json:   0%|          | 0.00/1.39M [00:00<?, ?B/s]"
      ]
     },
     "metadata": {},
     "output_type": "display_data"
    },
    {
     "name": "stderr",
     "output_type": "stream",
     "text": [
      "You are using the default legacy behaviour of the <class 'transformers.models.t5.tokenization_t5.T5Tokenizer'>. This is expected, and simply means that the `legacy` (previous) behavior will be used so nothing changes for you. If you want to use the new behaviour, set `legacy=False`. This should only be set if you understand what it means, and thoroughly read the reason why this was added as explained in https://github.com/huggingface/transformers/pull/24565\n",
      "Special tokens have been added in the vocabulary, make sure the associated word embeddings are fine-tuned or trained.\n"
     ]
    }
   ],
   "source": [
    "tokenizer = T5Tokenizer.from_pretrained(\"t5-small\")"
   ]
  },
  {
   "cell_type": "code",
   "execution_count": 60,
   "metadata": {},
   "outputs": [],
   "source": [
    "backup_combined_df = combined_df.copy()"
   ]
  },
  {
   "cell_type": "code",
   "execution_count": 61,
   "metadata": {},
   "outputs": [
    {
     "name": "stderr",
     "output_type": "stream",
     "text": [
      "Token indices sequence length is longer than the specified maximum sequence length for this model (652 > 512). Running this sequence through the model will result in indexing errors\n"
     ]
    }
   ],
   "source": [
    "# cutting out token counts beyond t5 context limits\n",
    "\n",
    "for index, row in combined_df.iterrows():\n",
    "    # Tokenize the 'context' column\n",
    "    tokenized_text = tokenizer(row['context'], return_tensors='pt')\n",
    "    # Get the number of tokens\n",
    "    num_tokens = tokenized_text.input_ids.size(1)\n",
    "    # Remove rows where the number of tokens is more than 500\n",
    "    if num_tokens > 500:\n",
    "        combined_df.drop(index, inplace=True)\n",
    "\n",
    "combined_df.reset_index(drop=True, inplace=True)"
   ]
  },
  {
   "cell_type": "code",
   "execution_count": 62,
   "metadata": {},
   "outputs": [
    {
     "data": {
      "text/html": [
       "<div>\n",
       "<style scoped>\n",
       "    .dataframe tbody tr th:only-of-type {\n",
       "        vertical-align: middle;\n",
       "    }\n",
       "\n",
       "    .dataframe tbody tr th {\n",
       "        vertical-align: top;\n",
       "    }\n",
       "\n",
       "    .dataframe thead th {\n",
       "        text-align: right;\n",
       "    }\n",
       "</style>\n",
       "<table border=\"1\" class=\"dataframe\">\n",
       "  <thead>\n",
       "    <tr style=\"text-align: right;\">\n",
       "      <th></th>\n",
       "      <th>word</th>\n",
       "      <th>parsed_xml</th>\n",
       "      <th>context</th>\n",
       "    </tr>\n",
       "  </thead>\n",
       "  <tbody>\n",
       "    <tr>\n",
       "      <th>0</th>\n",
       "      <td>aanbiddingszanger</td>\n",
       "      <td>&lt;artikel id=\"151279\" last-modified=\"2023-10-04...</td>\n",
       "      <td>Met stip binnen op nummer 1: een aanbiddingsza...</td>\n",
       "    </tr>\n",
       "    <tr>\n",
       "      <th>1</th>\n",
       "      <td>aanblijfpremie</td>\n",
       "      <td>&lt;artikel id=\"73079\" last-modified=\"2023-10-04\"...</td>\n",
       "      <td>Het gaat om misbruik van dienstauto's en telef...</td>\n",
       "    </tr>\n",
       "    <tr>\n",
       "      <th>2</th>\n",
       "      <td>aanbodgedreven</td>\n",
       "      <td>&lt;artikel id=\"73080\" last-modified=\"2023-10-04\"...</td>\n",
       "      <td>Zo zijn werknemers bijvoorbeeld minder bereid ...</td>\n",
       "    </tr>\n",
       "    <tr>\n",
       "      <th>3</th>\n",
       "      <td>aanbodgestuurd</td>\n",
       "      <td>&lt;artikel id=\"73081\" last-modified=\"2023-10-04\"...</td>\n",
       "      <td>Het project heeft tot doel te verkennen in hoe...</td>\n",
       "    </tr>\n",
       "    <tr>\n",
       "      <th>4</th>\n",
       "      <td>aandachtseconomie</td>\n",
       "      <td>&lt;artikel id=\"166967\" last-modified=\"2024-02-02...</td>\n",
       "      <td>Waarschijnlijk wil je meer tijd besteden aan j...</td>\n",
       "    </tr>\n",
       "    <tr>\n",
       "      <th>...</th>\n",
       "      <td>...</td>\n",
       "      <td>...</td>\n",
       "      <td>...</td>\n",
       "    </tr>\n",
       "    <tr>\n",
       "      <th>29142</th>\n",
       "      <td>zwoegen als een paard</td>\n",
       "      <td>\\n&lt;artikel id=\"158917\" last-modified=\"2021-07-...</td>\n",
       "      <td>Boer Frans had altijd al 16 uur per dag nodig ...</td>\n",
       "    </tr>\n",
       "    <tr>\n",
       "      <th>29143</th>\n",
       "      <td>zwoeger</td>\n",
       "      <td>\\n&lt;artikel id=\"67730\" last-modified=\"2023-10-0...</td>\n",
       "      <td>\"Er is iets in mijn schrijven waarvoor de best...</td>\n",
       "    </tr>\n",
       "    <tr>\n",
       "      <th>29144</th>\n",
       "      <td>Zwollenaar</td>\n",
       "      <td>\\n&lt;artikel id=\"68736\" last-modified=\"2023-10-0...</td>\n",
       "      <td>Voorlopig sluit ik mij nog niet aan bij welke ...</td>\n",
       "    </tr>\n",
       "    <tr>\n",
       "      <th>29145</th>\n",
       "      <td>Zwolse</td>\n",
       "      <td>\\n&lt;artikel id=\"70752\" last-modified=\"2023-10-0...</td>\n",
       "      <td>Marijn de Vries staat zondag in Itali\\xc3\\xab ...</td>\n",
       "    </tr>\n",
       "    <tr>\n",
       "      <th>29146</th>\n",
       "      <td>zzp'er</td>\n",
       "      <td>\\n&lt;artikel id=\"69368\" last-modified=\"2023-11-0...</td>\n",
       "      <td>Groot is de kans dat een groot deel van de opr...</td>\n",
       "    </tr>\n",
       "  </tbody>\n",
       "</table>\n",
       "<p>29147 rows × 3 columns</p>\n",
       "</div>"
      ],
      "text/plain": [
       "                        word  \\\n",
       "0          aanbiddingszanger   \n",
       "1             aanblijfpremie   \n",
       "2             aanbodgedreven   \n",
       "3             aanbodgestuurd   \n",
       "4          aandachtseconomie   \n",
       "...                      ...   \n",
       "29142  zwoegen als een paard   \n",
       "29143                zwoeger   \n",
       "29144             Zwollenaar   \n",
       "29145                 Zwolse   \n",
       "29146                 zzp'er   \n",
       "\n",
       "                                              parsed_xml  \\\n",
       "0      <artikel id=\"151279\" last-modified=\"2023-10-04...   \n",
       "1      <artikel id=\"73079\" last-modified=\"2023-10-04\"...   \n",
       "2      <artikel id=\"73080\" last-modified=\"2023-10-04\"...   \n",
       "3      <artikel id=\"73081\" last-modified=\"2023-10-04\"...   \n",
       "4      <artikel id=\"166967\" last-modified=\"2024-02-02...   \n",
       "...                                                  ...   \n",
       "29142  \\n<artikel id=\"158917\" last-modified=\"2021-07-...   \n",
       "29143  \\n<artikel id=\"67730\" last-modified=\"2023-10-0...   \n",
       "29144  \\n<artikel id=\"68736\" last-modified=\"2023-10-0...   \n",
       "29145  \\n<artikel id=\"70752\" last-modified=\"2023-10-0...   \n",
       "29146  \\n<artikel id=\"69368\" last-modified=\"2023-11-0...   \n",
       "\n",
       "                                                 context  \n",
       "0      Met stip binnen op nummer 1: een aanbiddingsza...  \n",
       "1      Het gaat om misbruik van dienstauto's en telef...  \n",
       "2      Zo zijn werknemers bijvoorbeeld minder bereid ...  \n",
       "3      Het project heeft tot doel te verkennen in hoe...  \n",
       "4      Waarschijnlijk wil je meer tijd besteden aan j...  \n",
       "...                                                  ...  \n",
       "29142  Boer Frans had altijd al 16 uur per dag nodig ...  \n",
       "29143  \"Er is iets in mijn schrijven waarvoor de best...  \n",
       "29144  Voorlopig sluit ik mij nog niet aan bij welke ...  \n",
       "29145  Marijn de Vries staat zondag in Itali\\xc3\\xab ...  \n",
       "29146  Groot is de kans dat een groot deel van de opr...  \n",
       "\n",
       "[29147 rows x 3 columns]"
      ]
     },
     "execution_count": 62,
     "metadata": {},
     "output_type": "execute_result"
    }
   ],
   "source": [
    "combined_df"
   ]
  },
  {
   "cell_type": "code",
   "execution_count": 63,
   "metadata": {},
   "outputs": [
    {
     "name": "stdout",
     "output_type": "stream",
     "text": [
      "Minimum length of context: 22\n",
      "Maximum length of context: 1150\n",
      "Average length of context: 252.6017428894912\n"
     ]
    }
   ],
   "source": [
    "context_lengths = combined_df['context'].str.len()\n",
    "min_length = context_lengths.min()\n",
    "max_length = context_lengths.max()\n",
    "avg_length = context_lengths.mean()\n",
    "\n",
    "print(\"Minimum length of context:\", min_length)\n",
    "print(\"Maximum length of context:\", max_length)\n",
    "print(\"Average length of context:\", avg_length)\n"
   ]
  },
  {
   "cell_type": "code",
   "execution_count": 67,
   "metadata": {},
   "outputs": [
    {
     "name": "stdout",
     "output_type": "stream",
     "text": [
      "Series([], Name: context, dtype: object)\n"
     ]
    }
   ],
   "source": [
    "long_contexts = combined_df[combined_df['context'].str.split().apply(len) > 512]['context']\n",
    "\n",
    "# Print the first long context\n",
    "print(long_contexts)"
   ]
  },
  {
   "cell_type": "code",
   "execution_count": 64,
   "metadata": {},
   "outputs": [
    {
     "name": "stdout",
     "output_type": "stream",
     "text": [
      "Maximum tokens under 'context': 497\n",
      "Minimum tokens under 'context': 12\n",
      "Mean tokens under 'context': 117.86242151850962\n"
     ]
    }
   ],
   "source": [
    "token_counts = []\n",
    "\n",
    "for index, row in combined_df.iterrows():\n",
    "    # Tokenize the 'context' column\n",
    "    tokenized_text = tokenizer(row['context'], return_tensors='pt')\n",
    "    # Get the number of tokens\n",
    "    num_tokens = tokenized_text.input_ids.size(1)\n",
    "    # Append the number of tokens to the list\n",
    "    token_counts.append(num_tokens)\n",
    "max_tokens = max(token_counts)\n",
    "min_tokens = min(token_counts)\n",
    "mean_tokens = sum(token_counts) / len(token_counts)\n",
    "\n",
    "print(\"Maximum tokens under 'context':\", max_tokens)\n",
    "print(\"Minimum tokens under 'context':\", min_tokens)\n",
    "print(\"Mean tokens under 'context':\", mean_tokens)"
   ]
  },
  {
   "cell_type": "code",
   "execution_count": 68,
   "metadata": {},
   "outputs": [
    {
     "data": {
      "text/html": [
       "<div>\n",
       "<style scoped>\n",
       "    .dataframe tbody tr th:only-of-type {\n",
       "        vertical-align: middle;\n",
       "    }\n",
       "\n",
       "    .dataframe tbody tr th {\n",
       "        vertical-align: top;\n",
       "    }\n",
       "\n",
       "    .dataframe thead th {\n",
       "        text-align: right;\n",
       "    }\n",
       "</style>\n",
       "<table border=\"1\" class=\"dataframe\">\n",
       "  <thead>\n",
       "    <tr style=\"text-align: right;\">\n",
       "      <th></th>\n",
       "      <th>word</th>\n",
       "      <th>parsed_xml</th>\n",
       "      <th>context</th>\n",
       "    </tr>\n",
       "  </thead>\n",
       "  <tbody>\n",
       "    <tr>\n",
       "      <th>0</th>\n",
       "      <td>aanbiddingszanger</td>\n",
       "      <td>&lt;artikel id=\"151279\" last-modified=\"2023-10-04...</td>\n",
       "      <td>Met stip binnen op nummer 1: een aanbiddingsza...</td>\n",
       "    </tr>\n",
       "    <tr>\n",
       "      <th>1</th>\n",
       "      <td>aanblijfpremie</td>\n",
       "      <td>&lt;artikel id=\"73079\" last-modified=\"2023-10-04\"...</td>\n",
       "      <td>Het gaat om misbruik van dienstauto's en telef...</td>\n",
       "    </tr>\n",
       "    <tr>\n",
       "      <th>2</th>\n",
       "      <td>aanbodgedreven</td>\n",
       "      <td>&lt;artikel id=\"73080\" last-modified=\"2023-10-04\"...</td>\n",
       "      <td>Zo zijn werknemers bijvoorbeeld minder bereid ...</td>\n",
       "    </tr>\n",
       "    <tr>\n",
       "      <th>3</th>\n",
       "      <td>aanbodgestuurd</td>\n",
       "      <td>&lt;artikel id=\"73081\" last-modified=\"2023-10-04\"...</td>\n",
       "      <td>Het project heeft tot doel te verkennen in hoe...</td>\n",
       "    </tr>\n",
       "    <tr>\n",
       "      <th>4</th>\n",
       "      <td>aandachtseconomie</td>\n",
       "      <td>&lt;artikel id=\"166967\" last-modified=\"2024-02-02...</td>\n",
       "      <td>Waarschijnlijk wil je meer tijd besteden aan j...</td>\n",
       "    </tr>\n",
       "    <tr>\n",
       "      <th>...</th>\n",
       "      <td>...</td>\n",
       "      <td>...</td>\n",
       "      <td>...</td>\n",
       "    </tr>\n",
       "    <tr>\n",
       "      <th>29159</th>\n",
       "      <td>zwoegen als een paard</td>\n",
       "      <td>\\n&lt;artikel id=\"158917\" last-modified=\"2021-07-...</td>\n",
       "      <td>Boer Frans had altijd al 16 uur per dag nodig ...</td>\n",
       "    </tr>\n",
       "    <tr>\n",
       "      <th>29160</th>\n",
       "      <td>zwoeger</td>\n",
       "      <td>\\n&lt;artikel id=\"67730\" last-modified=\"2023-10-0...</td>\n",
       "      <td>\"Er is iets in mijn schrijven waarvoor de best...</td>\n",
       "    </tr>\n",
       "    <tr>\n",
       "      <th>29161</th>\n",
       "      <td>Zwollenaar</td>\n",
       "      <td>\\n&lt;artikel id=\"68736\" last-modified=\"2023-10-0...</td>\n",
       "      <td>Voorlopig sluit ik mij nog niet aan bij welke ...</td>\n",
       "    </tr>\n",
       "    <tr>\n",
       "      <th>29162</th>\n",
       "      <td>Zwolse</td>\n",
       "      <td>\\n&lt;artikel id=\"70752\" last-modified=\"2023-10-0...</td>\n",
       "      <td>Marijn de Vries staat zondag in Itali\\xc3\\xab ...</td>\n",
       "    </tr>\n",
       "    <tr>\n",
       "      <th>29163</th>\n",
       "      <td>zzp'er</td>\n",
       "      <td>\\n&lt;artikel id=\"69368\" last-modified=\"2023-11-0...</td>\n",
       "      <td>Groot is de kans dat een groot deel van de opr...</td>\n",
       "    </tr>\n",
       "  </tbody>\n",
       "</table>\n",
       "<p>29164 rows × 3 columns</p>\n",
       "</div>"
      ],
      "text/plain": [
       "                        word  \\\n",
       "0          aanbiddingszanger   \n",
       "1             aanblijfpremie   \n",
       "2             aanbodgedreven   \n",
       "3             aanbodgestuurd   \n",
       "4          aandachtseconomie   \n",
       "...                      ...   \n",
       "29159  zwoegen als een paard   \n",
       "29160                zwoeger   \n",
       "29161             Zwollenaar   \n",
       "29162                 Zwolse   \n",
       "29163                 zzp'er   \n",
       "\n",
       "                                              parsed_xml  \\\n",
       "0      <artikel id=\"151279\" last-modified=\"2023-10-04...   \n",
       "1      <artikel id=\"73079\" last-modified=\"2023-10-04\"...   \n",
       "2      <artikel id=\"73080\" last-modified=\"2023-10-04\"...   \n",
       "3      <artikel id=\"73081\" last-modified=\"2023-10-04\"...   \n",
       "4      <artikel id=\"166967\" last-modified=\"2024-02-02...   \n",
       "...                                                  ...   \n",
       "29159  \\n<artikel id=\"158917\" last-modified=\"2021-07-...   \n",
       "29160  \\n<artikel id=\"67730\" last-modified=\"2023-10-0...   \n",
       "29161  \\n<artikel id=\"68736\" last-modified=\"2023-10-0...   \n",
       "29162  \\n<artikel id=\"70752\" last-modified=\"2023-10-0...   \n",
       "29163  \\n<artikel id=\"69368\" last-modified=\"2023-11-0...   \n",
       "\n",
       "                                                 context  \n",
       "0      Met stip binnen op nummer 1: een aanbiddingsza...  \n",
       "1      Het gaat om misbruik van dienstauto's en telef...  \n",
       "2      Zo zijn werknemers bijvoorbeeld minder bereid ...  \n",
       "3      Het project heeft tot doel te verkennen in hoe...  \n",
       "4      Waarschijnlijk wil je meer tijd besteden aan j...  \n",
       "...                                                  ...  \n",
       "29159  Boer Frans had altijd al 16 uur per dag nodig ...  \n",
       "29160  \"Er is iets in mijn schrijven waarvoor de best...  \n",
       "29161  Voorlopig sluit ik mij nog niet aan bij welke ...  \n",
       "29162  Marijn de Vries staat zondag in Itali\\xc3\\xab ...  \n",
       "29163  Groot is de kans dat een groot deel van de opr...  \n",
       "\n",
       "[29164 rows x 3 columns]"
      ]
     },
     "execution_count": 68,
     "metadata": {},
     "output_type": "execute_result"
    }
   ],
   "source": [
    "backup_combined_df"
   ]
  },
  {
   "cell_type": "code",
   "execution_count": 69,
   "metadata": {},
   "outputs": [],
   "source": [
    "combined_df.to_csv('dut_full_combined.csv', index=False)\n"
   ]
  },
  {
   "cell_type": "code",
   "execution_count": null,
   "metadata": {},
   "outputs": [],
   "source": []
  }
 ],
 "metadata": {
  "kernelspec": {
   "display_name": "thesis-torch",
   "language": "python",
   "name": "python3"
  },
  "language_info": {
   "codemirror_mode": {
    "name": "ipython",
    "version": 3
   },
   "file_extension": ".py",
   "mimetype": "text/x-python",
   "name": "python",
   "nbconvert_exporter": "python",
   "pygments_lexer": "ipython3",
   "version": "3.12.1"
  }
 },
 "nbformat": 4,
 "nbformat_minor": 2
}
